{
  "nbformat": 4,
  "nbformat_minor": 0,
  "metadata": {
    "colab": {
      "provenance": [],
      "toc_visible": true
    },
    "kernelspec": {
      "name": "python3",
      "display_name": "Python 3"
    },
    "language_info": {
      "name": "python"
    }
  },
  "cells": [
    {
      "cell_type": "markdown",
      "source": [
        "# Data Cleaning with Pandas\n",
        "\n",
        "In this notebook we'll go through a few basic data cleaning steps that should be performed on all new datasets where necessary.\n",
        "\n",
        "We'll go through the process with both the `orders` and `orderlines` datasets. You can then practice these skills by cleaning the `products` dataset yourself"
      ],
      "metadata": {
        "id": "kYo4UvcCvkUs"
      }
    },
    {
      "cell_type": "code",
      "execution_count": null,
      "metadata": {
        "id": "FgRIdUs1vcZ8"
      },
      "outputs": [],
      "source": [
        "import pandas as pd"
      ]
    },
    {
      "cell_type": "code",
      "source": [
        "pd.set_option('display.max_colwidth', None) # to increase the width of the columns"
      ],
      "metadata": {
        "id": "rCFadwwK6Ial"
      },
      "execution_count": null,
      "outputs": []
    },
    {
      "cell_type": "code",
      "source": [
        "# orders.csv\n",
        "url = \"https://drive.google.com/file/d/1Vu0q91qZw6lqhIqbjoXYvYAQTmVHh6uZ/view?usp=sharing\"\n",
        "path = \"https://drive.google.com/uc?export=download&id=\"+url.split(\"/\")[-2]\n",
        "orders = pd.read_csv(path)\n",
        "\n",
        "# orderlines.csv\n",
        "url = \"https://drive.google.com/file/d/1FYhN_2AzTBFuWcfHaRuKcuCE6CWXsWtG/view?usp=sharing\"\n",
        "path = \"https://drive.google.com/uc?export=download&id=\"+url.split(\"/\")[-2]\n",
        "orderlines = pd.read_csv(path)"
      ],
      "metadata": {
        "id": "_87JoNgVviOG"
      },
      "execution_count": null,
      "outputs": []
    },
    {
      "cell_type": "markdown",
      "source": [
        "Before we begin, let's create a copy of the `orders` and `orderlines` DataFrames. This way we are sure any of our changes won't affect the original DataFrames."
      ],
      "metadata": {
        "id": "qS6O9HFLUgkU"
      }
    },
    {
      "cell_type": "code",
      "source": [
        "orders_df = orders.copy()"
      ],
      "metadata": {
        "id": "4QdMtar7_lrX"
      },
      "execution_count": null,
      "outputs": []
    },
    {
      "cell_type": "code",
      "source": [
        "orderlines_df = orderlines.copy()"
      ],
      "metadata": {
        "id": "oka4mnqU_mds"
      },
      "execution_count": null,
      "outputs": []
    },
    {
      "cell_type": "markdown",
      "source": [
        "One of the best ways to begin data cleaning is by exploring using `.info()`. This will tell us:\n",
        "* The shape of the DataFrame\n",
        "* The names of the columns\n",
        "* If there are any missing values\n",
        "* The datatypes of the columns\n",
        "\n",
        "By exploring the missing values and correcting any incorrect datatypes, we often come across inconsistencies in our data.\n",
        "\n",
        "Beyond this, we should also have a **check for any duplicate rows**.\n",
        "\n",
        "Let's first deal with the duplicates, as it's nice and easy, then we'll explore what `.info()` has to tell us."
      ],
      "metadata": {
        "id": "fVLitYX1yhc6"
      }
    },
    {
      "cell_type": "markdown",
      "source": [
        "## 1.&nbsp; Duplicates\n",
        "We can check for duplicates using the pandas [.duplicated()](https://pandas.pydata.org/docs/reference/api/pandas.DataFrame.duplicated.html) method.\n",
        "\n",
        "We can then delete these rows, if we wish, using [.drop_duplicates()](https://pandas.pydata.org/docs/reference/api/pandas.DataFrame.drop_duplicates.html)"
      ],
      "metadata": {
        "id": "036ciQ6rwBJm"
      }
    },
    {
      "cell_type": "code",
      "source": [
        "# orders\n",
        "orders_df.duplicated().sum()"
      ],
      "metadata": {
        "colab": {
          "base_uri": "https://localhost:8080/"
        },
        "id": "6dVkoUu7wC-b",
        "outputId": "2d2bb1ec-7f78-4345-ae33-74b5b061e3a5"
      },
      "execution_count": null,
      "outputs": [
        {
          "output_type": "execute_result",
          "data": {
            "text/plain": [
              "0"
            ]
          },
          "metadata": {},
          "execution_count": 7
        }
      ]
    },
    {
      "cell_type": "code",
      "source": [
        "# orderlines\n",
        "orderlines_df.duplicated().sum()"
      ],
      "metadata": {
        "colab": {
          "base_uri": "https://localhost:8080/"
        },
        "id": "iaeAQB_3whli",
        "outputId": "b2056e47-f1a6-46b5-eddb-bad2ac646302"
      },
      "execution_count": null,
      "outputs": [
        {
          "output_type": "execute_result",
          "data": {
            "text/plain": [
              "0"
            ]
          },
          "metadata": {},
          "execution_count": 8
        }
      ]
    },
    {
      "cell_type": "markdown",
      "source": [
        "We have no duplicate rows in either DataFrame. Easy, there is no problem to solve. Normally though, if there were some duplicates, we'd drop the extra rows."
      ],
      "metadata": {
        "id": "3LbnJquF0vRe"
      }
    },
    {
      "cell_type": "markdown",
      "source": [
        "# 2.&nbsp; `.info()`"
      ],
      "metadata": {
        "id": "9lX7YbHlzoEO"
      }
    },
    {
      "cell_type": "code",
      "source": [
        "orders_df.info()"
      ],
      "metadata": {
        "colab": {
          "base_uri": "https://localhost:8080/"
        },
        "id": "_AAsMOTS2L9r",
        "outputId": "35cbe6dc-aa7b-4846-9197-5723fc5b66fa"
      },
      "execution_count": null,
      "outputs": [
        {
          "output_type": "stream",
          "name": "stdout",
          "text": [
            "<class 'pandas.core.frame.DataFrame'>\n",
            "RangeIndex: 226909 entries, 0 to 226908\n",
            "Data columns (total 4 columns):\n",
            " #   Column        Non-Null Count   Dtype  \n",
            "---  ------        --------------   -----  \n",
            " 0   order_id      226909 non-null  int64  \n",
            " 1   created_date  226909 non-null  object \n",
            " 2   total_paid    226904 non-null  float64\n",
            " 3   state         226909 non-null  object \n",
            "dtypes: float64(1), int64(1), object(2)\n",
            "memory usage: 6.9+ MB\n"
          ]
        }
      ]
    },
    {
      "cell_type": "markdown",
      "source": [
        "* `total_paid` has 5 missing values\n",
        "* `created_date` should become datetime datatype"
      ],
      "metadata": {
        "id": "Txm3Bv952UCb"
      }
    },
    {
      "cell_type": "code",
      "source": [
        "orderlines_df.info()"
      ],
      "metadata": {
        "colab": {
          "base_uri": "https://localhost:8080/"
        },
        "id": "kvDA-z032Rm2",
        "outputId": "c890f71f-96a3-465f-b1a3-d5e7ef3d5bd5"
      },
      "execution_count": null,
      "outputs": [
        {
          "output_type": "stream",
          "name": "stdout",
          "text": [
            "<class 'pandas.core.frame.DataFrame'>\n",
            "RangeIndex: 293983 entries, 0 to 293982\n",
            "Data columns (total 7 columns):\n",
            " #   Column            Non-Null Count   Dtype \n",
            "---  ------            --------------   ----- \n",
            " 0   id                293983 non-null  int64 \n",
            " 1   id_order          293983 non-null  int64 \n",
            " 2   product_id        293983 non-null  int64 \n",
            " 3   product_quantity  293983 non-null  int64 \n",
            " 4   sku               293983 non-null  object\n",
            " 5   unit_price        293983 non-null  object\n",
            " 6   date              293983 non-null  object\n",
            "dtypes: int64(4), object(3)\n",
            "memory usage: 15.7+ MB\n"
          ]
        }
      ]
    },
    {
      "cell_type": "markdown",
      "source": [
        "* `date` should be a datetime datatype\n",
        "* `unit_price` should be a float datatype"
      ],
      "metadata": {
        "id": "iLSpYm1G2sPD"
      }
    },
    {
      "cell_type": "markdown",
      "source": [
        "## 3.&nbsp; Missing values"
      ],
      "metadata": {
        "id": "MlwJt5c-wiQh"
      }
    },
    {
      "cell_type": "markdown",
      "source": [
        "### 3.1.&nbsp; Orders\n",
        "* `total_paid` has 5 missing values"
      ],
      "metadata": {
        "id": "63eKHGzJwkuT"
      }
    },
    {
      "cell_type": "code",
      "source": [
        "print(f\"5 missing values represents {((orders_df.total_paid.isna().sum() / orders_df.shape[0])*100).round(5)}% of the rows in our DataFrame\")"
      ],
      "metadata": {
        "colab": {
          "base_uri": "https://localhost:8080/"
        },
        "id": "Yh81k3ppwl37",
        "outputId": "1c85f394-699b-4f4b-ea19-026e64420158"
      },
      "execution_count": null,
      "outputs": [
        {
          "output_type": "stream",
          "name": "stdout",
          "text": [
            "5 missing values represents 0.0022% of the rows in our DataFrame\n"
          ]
        }
      ]
    },
    {
      "cell_type": "markdown",
      "source": [
        "A quick way to find out a percentage here, if you don't need to print out a sentence for yourself/students/colleagues is `.value_count(normalize=True)`"
      ],
      "metadata": {
        "id": "8s6q6JScX9QV"
      }
    },
    {
      "cell_type": "code",
      "source": [
        "orders_df.total_paid.isna().value_counts(normalize=True)"
      ],
      "metadata": {
        "colab": {
          "base_uri": "https://localhost:8080/"
        },
        "id": "PJedh_tXX8jO",
        "outputId": "1b2a017f-5813-4c8e-95cd-6dd3d223e676"
      },
      "execution_count": null,
      "outputs": [
        {
          "output_type": "execute_result",
          "data": {
            "text/plain": [
              "total_paid\n",
              "False    0.999978\n",
              "True     0.000022\n",
              "Name: proportion, dtype: float64"
            ]
          },
          "metadata": {},
          "execution_count": 12
        }
      ]
    },
    {
      "cell_type": "markdown",
      "source": [
        "As there is such a tiny amount of missing values, we will simply delete these rows, as we have enough data without them."
      ],
      "metadata": {
        "id": "eMW6J-4v_iVM"
      }
    },
    {
      "cell_type": "code",
      "source": [
        "orders_df = orders_df.loc[~orders.total_paid.isna(), :]"
      ],
      "metadata": {
        "id": "ohcl2Pb2B_Ch"
      },
      "execution_count": null,
      "outputs": []
    },
    {
      "cell_type": "markdown",
      "source": [
        "Should you have a significant number of missing values in the future, you have a choice:\n",
        "+ you can impute the values\n",
        "+ you can take the values from other DataFrames, if they are present there\n",
        "+ you can delete the values\n",
        "+ or any number of other creative solutions\n",
        "\n",
        "Please, always consider how much time you have on your project, and what impact your method of choice will have on your final assesment."
      ],
      "metadata": {
        "id": "AIWAR4xI_3jv"
      }
    },
    {
      "cell_type": "markdown",
      "source": [
        "### 3.2.&nbsp; Orderlines\n",
        "There are no missing values in `orderlines`"
      ],
      "metadata": {
        "id": "nziIE3hbwmNa"
      }
    },
    {
      "cell_type": "markdown",
      "source": [
        "## 4.&nbsp; Datatypes"
      ],
      "metadata": {
        "id": "_feog1aCwosJ"
      }
    },
    {
      "cell_type": "markdown",
      "source": [
        "### 4.1.&nbsp; Orders\n",
        "* `created_date` should become datetime datatype"
      ],
      "metadata": {
        "id": "wCJyQYkOwrBE"
      }
    },
    {
      "cell_type": "code",
      "source": [
        "orders_df[\"created_date\"] = pd.to_datetime(orders_df[\"created_date\"])"
      ],
      "metadata": {
        "id": "cF9roGlewr8j",
        "colab": {
          "base_uri": "https://localhost:8080/"
        },
        "outputId": "6bb8759d-36bb-4317-c104-42664800fbf0"
      },
      "execution_count": null,
      "outputs": [
        {
          "output_type": "stream",
          "name": "stderr",
          "text": [
            "<ipython-input-14-87c26cc5d8b0>:1: SettingWithCopyWarning: \n",
            "A value is trying to be set on a copy of a slice from a DataFrame.\n",
            "Try using .loc[row_indexer,col_indexer] = value instead\n",
            "\n",
            "See the caveats in the documentation: https://pandas.pydata.org/pandas-docs/stable/user_guide/indexing.html#returning-a-view-versus-a-copy\n",
            "  orders_df[\"created_date\"] = pd.to_datetime(orders_df[\"created_date\"])\n"
          ]
        }
      ]
    },
    {
      "cell_type": "markdown",
      "source": [
        "### 4.1.&nbsp; Orderlines\n",
        "* `date` should be a datetime datatype\n",
        "* `unit_price` should be a float datatype"
      ],
      "metadata": {
        "id": "osvynBTNwsin"
      }
    },
    {
      "cell_type": "markdown",
      "source": [
        "#### 4.1.1.&nbsp; `date`"
      ],
      "metadata": {
        "id": "PJcuKn8K06Yd"
      }
    },
    {
      "cell_type": "code",
      "source": [
        "orderlines_df[\"date\"] = pd.to_datetime(orderlines_df[\"date\"])"
      ],
      "metadata": {
        "id": "FnXgRKERwtvS"
      },
      "execution_count": null,
      "outputs": []
    },
    {
      "cell_type": "markdown",
      "source": [
        "#### 4.1.2.&nbsp;`unit_price`"
      ],
      "metadata": {
        "id": "F7i78NDY0-oF"
      }
    },
    {
      "cell_type": "code",
      "source": [
        "orderlines_df[\"unit_price\"] = pd.to_numeric(orderlines_df[\"unit_price\"])"
      ],
      "metadata": {
        "colab": {
          "base_uri": "https://localhost:8080/",
          "height": 269
        },
        "id": "iOFBNmuRDuGU",
        "outputId": "4e894fc9-3948-482d-931d-5327c26ad5c7"
      },
      "execution_count": null,
      "outputs": [
        {
          "output_type": "error",
          "ename": "ValueError",
          "evalue": "Unable to parse string \"1.137.99\" at position 6",
          "traceback": [
            "\u001b[0;31m---------------------------------------------------------------------------\u001b[0m",
            "\u001b[0;31mValueError\u001b[0m                                Traceback (most recent call last)",
            "\u001b[0;32m/usr/local/lib/python3.10/dist-packages/pandas/_libs/lib.pyx\u001b[0m in \u001b[0;36mpandas._libs.lib.maybe_convert_numeric\u001b[0;34m()\u001b[0m\n",
            "\u001b[0;31mValueError\u001b[0m: Unable to parse string \"1.137.99\"",
            "\nDuring handling of the above exception, another exception occurred:\n",
            "\u001b[0;31mValueError\u001b[0m                                Traceback (most recent call last)",
            "\u001b[0;32m<ipython-input-16-d6bd38092a9f>\u001b[0m in \u001b[0;36m<cell line: 1>\u001b[0;34m()\u001b[0m\n\u001b[0;32m----> 1\u001b[0;31m \u001b[0morderlines_df\u001b[0m\u001b[0;34m[\u001b[0m\u001b[0;34m\"unit_price\"\u001b[0m\u001b[0;34m]\u001b[0m \u001b[0;34m=\u001b[0m \u001b[0mpd\u001b[0m\u001b[0;34m.\u001b[0m\u001b[0mto_numeric\u001b[0m\u001b[0;34m(\u001b[0m\u001b[0morderlines_df\u001b[0m\u001b[0;34m[\u001b[0m\u001b[0;34m\"unit_price\"\u001b[0m\u001b[0;34m]\u001b[0m\u001b[0;34m)\u001b[0m\u001b[0;34m\u001b[0m\u001b[0;34m\u001b[0m\u001b[0m\n\u001b[0m",
            "\u001b[0;32m/usr/local/lib/python3.10/dist-packages/pandas/core/tools/numeric.py\u001b[0m in \u001b[0;36mto_numeric\u001b[0;34m(arg, errors, downcast, dtype_backend)\u001b[0m\n\u001b[1;32m    215\u001b[0m         \u001b[0mcoerce_numeric\u001b[0m \u001b[0;34m=\u001b[0m \u001b[0merrors\u001b[0m \u001b[0;32mnot\u001b[0m \u001b[0;32min\u001b[0m \u001b[0;34m(\u001b[0m\u001b[0;34m\"ignore\"\u001b[0m\u001b[0;34m,\u001b[0m \u001b[0;34m\"raise\"\u001b[0m\u001b[0;34m)\u001b[0m\u001b[0;34m\u001b[0m\u001b[0;34m\u001b[0m\u001b[0m\n\u001b[1;32m    216\u001b[0m         \u001b[0;32mtry\u001b[0m\u001b[0;34m:\u001b[0m\u001b[0;34m\u001b[0m\u001b[0;34m\u001b[0m\u001b[0m\n\u001b[0;32m--> 217\u001b[0;31m             values, new_mask = lib.maybe_convert_numeric(  # type: ignore[call-overload]  # noqa\n\u001b[0m\u001b[1;32m    218\u001b[0m                 \u001b[0mvalues\u001b[0m\u001b[0;34m,\u001b[0m\u001b[0;34m\u001b[0m\u001b[0;34m\u001b[0m\u001b[0m\n\u001b[1;32m    219\u001b[0m                 \u001b[0mset\u001b[0m\u001b[0;34m(\u001b[0m\u001b[0;34m)\u001b[0m\u001b[0;34m,\u001b[0m\u001b[0;34m\u001b[0m\u001b[0;34m\u001b[0m\u001b[0m\n",
            "\u001b[0;32m/usr/local/lib/python3.10/dist-packages/pandas/_libs/lib.pyx\u001b[0m in \u001b[0;36mpandas._libs.lib.maybe_convert_numeric\u001b[0;34m()\u001b[0m\n",
            "\u001b[0;31mValueError\u001b[0m: Unable to parse string \"1.137.99\" at position 6"
          ]
        }
      ]
    },
    {
      "cell_type": "markdown",
      "source": [
        "As you can see when we try to convert `unit_price` to a numerical datatype, we receive a `ValueError` telling us that pandas doesn't understand the number `1.137.99`. This is probably because numbers cannot have 2 decimal points. Let's see if there are any other numbers like this."
      ],
      "metadata": {
        "id": "xEqhP5RFSmRi"
      }
    },
    {
      "cell_type": "code",
      "source": [
        "orderlines_df.unit_price.str.contains(\"\\d+\\.\\d+\\.\\d+\").value_counts()"
      ],
      "metadata": {
        "id": "ONy-oCt0SkrR",
        "colab": {
          "base_uri": "https://localhost:8080/"
        },
        "outputId": "42bbc08f-90c3-4af9-a463-7981d41f0a07"
      },
      "execution_count": null,
      "outputs": [
        {
          "output_type": "execute_result",
          "data": {
            "text/plain": [
              "unit_price\n",
              "False    257814\n",
              "True      36169\n",
              "Name: count, dtype: int64"
            ]
          },
          "metadata": {},
          "execution_count": 17
        }
      ]
    },
    {
      "cell_type": "markdown",
      "source": [
        "Looks like over 36000 rows in `orderlines` are affected by this problem. Let's work out how much that is as a percentage of our total data."
      ],
      "metadata": {
        "id": "HSUPvFJU6Jv-"
      }
    },
    {
      "cell_type": "code",
      "source": [
        "two_dot_percentage = ((orderlines_df.unit_price.str.contains(\"\\d+\\.\\d+\\.\\d+\").value_counts()[1] / orderlines_df.shape[0])*100).round(2)\n",
        "print(f\"The 2 dot problem represents {two_dot_percentage}% of the rows in our DataFrame\")"
      ],
      "metadata": {
        "id": "r75Rm1EgVjpi",
        "colab": {
          "base_uri": "https://localhost:8080/"
        },
        "outputId": "c53ab60b-aa84-4f5a-a62c-2c985e749d34"
      },
      "execution_count": null,
      "outputs": [
        {
          "output_type": "stream",
          "name": "stdout",
          "text": [
            "The 2 dot problem represents 12.3% of the rows in our DataFrame\n"
          ]
        }
      ]
    },
    {
      "cell_type": "markdown",
      "source": [
        "This is a bit of a tricky decision as 12.3% is a significant amount of our data... and we might even end up losing a larger portion of our data than this too. For the moment we will delete the rows as we only have 2 weeks for this project and I'd like some quick, accurate results to show. If we have time at the end, we can come back and investigate this problem further, maybe there's a solution?\n",
        "\n",
        "Each row of `orderlines` represents a product in an order. For example, if order number 175 contained 3 seperate products, then order 175 would have 3 rows in `orderlines`, one row for each of the products. If 2 of those products have 'normal' prices (14.99, 15.85) and 1 has a price with 2 decimal points (1.137.99), we need to remove the whole order and not just the affected row. If we only remove the row with 2 decimal places then any later analysis about products and prices could be misleading.\n",
        "\n",
        "We therefore need to find the order numbers associated with the rows that have 2 decimal points, and then remove all the associated rows."
      ],
      "metadata": {
        "id": "5Kp9_4pqeu5J"
      }
    },
    {
      "cell_type": "code",
      "source": [
        "two_dot_order_ids_list = orderlines_df.loc[orderlines_df.unit_price.str.contains(\"\\d+\\.\\d+\\.\\d+\"), \"id_order\"]\n",
        "\n",
        "orderlines_df = orderlines_df.loc[~orderlines_df.id_order.isin(two_dot_order_ids_list)]"
      ],
      "metadata": {
        "id": "wQnSe-n1WCqv"
      },
      "execution_count": null,
      "outputs": []
    },
    {
      "cell_type": "code",
      "source": [
        "orderlines_df.shape[0]"
      ],
      "metadata": {
        "id": "k-GLzXuV0Ioj",
        "colab": {
          "base_uri": "https://localhost:8080/"
        },
        "outputId": "5018f46a-bc3d-43fe-dafe-7a235f173bb1"
      },
      "execution_count": null,
      "outputs": [
        {
          "output_type": "execute_result",
          "data": {
            "text/plain": [
              "216250"
            ]
          },
          "metadata": {},
          "execution_count": 20
        }
      ]
    },
    {
      "cell_type": "markdown",
      "source": [
        "We still have 216250 rows in orderlines to work with. This should be more than enough for our evaluation.\n",
        "\n",
        "Now that all of the 2 decimal point prices have been removed, let's try again to convert the column `unit_price` to the correct datatype."
      ],
      "metadata": {
        "id": "2pd5t4110iz3"
      }
    },
    {
      "cell_type": "code",
      "source": [
        "orderlines_df[\"unit_price\"] = pd.to_numeric(orderlines_df[\"unit_price\"])"
      ],
      "metadata": {
        "id": "Q4eDTAPs1HMZ"
      },
      "execution_count": null,
      "outputs": []
    },
    {
      "cell_type": "markdown",
      "source": [
        "It worked perfectly"
      ],
      "metadata": {
        "id": "sBudIQLm6oJQ"
      }
    },
    {
      "cell_type": "markdown",
      "source": [
        "# Challenge: Clean the `products` DataFrame\n",
        "Now it's your turn. Use the lessons you learnt above and clean the products DataFrame. You don't have to copy exactly what we did. Think about the consequences of your actions, sometimes it is ok to delete rows, other times you may wish to come up with more creative solutions."
      ],
      "metadata": {
        "id": "1zGAzgIX8_-D"
      }
    },
    {
      "cell_type": "code",
      "source": [
        "import pandas as pd"
      ],
      "metadata": {
        "id": "0lwVsg_9hTMs"
      },
      "execution_count": null,
      "outputs": []
    },
    {
      "cell_type": "code",
      "source": [
        "# products.csv\n",
        "url = \"https://drive.google.com/file/d/1afxwDXfl-7cQ_qLwyDitfcCx3u7WMvkU/view?usp=sharing\"\n",
        "path = \"https://drive.google.com/uc?export=download&id=\"+url.split(\"/\")[-2]\n",
        "products = pd.read_csv(path)"
      ],
      "metadata": {
        "id": "LtYqdFsa9KTS"
      },
      "execution_count": null,
      "outputs": []
    },
    {
      "cell_type": "code",
      "source": [
        "products_df = products.copy()"
      ],
      "metadata": {
        "id": "-Vb3zvDwapQA"
      },
      "execution_count": null,
      "outputs": []
    },
    {
      "cell_type": "code",
      "source": [
        "products_df.head()"
      ],
      "metadata": {
        "id": "UW3zYoni9Vcy",
        "colab": {
          "base_uri": "https://localhost:8080/",
          "height": 206
        },
        "outputId": "220db25d-7f38-45a8-8b04-812fdde381c7"
      },
      "execution_count": null,
      "outputs": [
        {
          "output_type": "execute_result",
          "data": {
            "text/plain": [
              "       sku                                           name  \\\n",
              "0  RAI0007              Silver Rain Design mStand Support   \n",
              "1  APP0023              Apple Mac Keyboard Keypad Spanish   \n",
              "2  APP0025               Mighty Mouse Apple Mouse for Mac   \n",
              "3  APP0072  Apple Dock to USB Cable iPhone and iPod white   \n",
              "4  KIN0007    Mac Memory Kingston 2GB 667MHz DDR2 SO-DIMM   \n",
              "\n",
              "                                                            desc  price  \\\n",
              "0                   Aluminum support compatible with all MacBook  59.99   \n",
              "1                      USB ultrathin keyboard Apple Mac Spanish.     59   \n",
              "2                                         mouse Apple USB cable.     59   \n",
              "3                          IPhone dock and USB Cable Apple iPod.     25   \n",
              "4  2GB RAM Mac mini and iMac (2006/07) MacBook Pro (2006/07/08).  34.99   \n",
              "\n",
              "  promo_price  in_stock      type  \n",
              "0     499.899         1      8696  \n",
              "1     589.996         0  13855401  \n",
              "2     569.898         0      1387  \n",
              "3     229.997         0      1230  \n",
              "4       31.99         1      1364  "
            ],
            "text/html": [
              "\n",
              "  <div id=\"df-0b12d766-3401-482d-b4ca-5c3038cd3757\" class=\"colab-df-container\">\n",
              "    <div>\n",
              "<style scoped>\n",
              "    .dataframe tbody tr th:only-of-type {\n",
              "        vertical-align: middle;\n",
              "    }\n",
              "\n",
              "    .dataframe tbody tr th {\n",
              "        vertical-align: top;\n",
              "    }\n",
              "\n",
              "    .dataframe thead th {\n",
              "        text-align: right;\n",
              "    }\n",
              "</style>\n",
              "<table border=\"1\" class=\"dataframe\">\n",
              "  <thead>\n",
              "    <tr style=\"text-align: right;\">\n",
              "      <th></th>\n",
              "      <th>sku</th>\n",
              "      <th>name</th>\n",
              "      <th>desc</th>\n",
              "      <th>price</th>\n",
              "      <th>promo_price</th>\n",
              "      <th>in_stock</th>\n",
              "      <th>type</th>\n",
              "    </tr>\n",
              "  </thead>\n",
              "  <tbody>\n",
              "    <tr>\n",
              "      <th>0</th>\n",
              "      <td>RAI0007</td>\n",
              "      <td>Silver Rain Design mStand Support</td>\n",
              "      <td>Aluminum support compatible with all MacBook</td>\n",
              "      <td>59.99</td>\n",
              "      <td>499.899</td>\n",
              "      <td>1</td>\n",
              "      <td>8696</td>\n",
              "    </tr>\n",
              "    <tr>\n",
              "      <th>1</th>\n",
              "      <td>APP0023</td>\n",
              "      <td>Apple Mac Keyboard Keypad Spanish</td>\n",
              "      <td>USB ultrathin keyboard Apple Mac Spanish.</td>\n",
              "      <td>59</td>\n",
              "      <td>589.996</td>\n",
              "      <td>0</td>\n",
              "      <td>13855401</td>\n",
              "    </tr>\n",
              "    <tr>\n",
              "      <th>2</th>\n",
              "      <td>APP0025</td>\n",
              "      <td>Mighty Mouse Apple Mouse for Mac</td>\n",
              "      <td>mouse Apple USB cable.</td>\n",
              "      <td>59</td>\n",
              "      <td>569.898</td>\n",
              "      <td>0</td>\n",
              "      <td>1387</td>\n",
              "    </tr>\n",
              "    <tr>\n",
              "      <th>3</th>\n",
              "      <td>APP0072</td>\n",
              "      <td>Apple Dock to USB Cable iPhone and iPod white</td>\n",
              "      <td>IPhone dock and USB Cable Apple iPod.</td>\n",
              "      <td>25</td>\n",
              "      <td>229.997</td>\n",
              "      <td>0</td>\n",
              "      <td>1230</td>\n",
              "    </tr>\n",
              "    <tr>\n",
              "      <th>4</th>\n",
              "      <td>KIN0007</td>\n",
              "      <td>Mac Memory Kingston 2GB 667MHz DDR2 SO-DIMM</td>\n",
              "      <td>2GB RAM Mac mini and iMac (2006/07) MacBook Pro (2006/07/08).</td>\n",
              "      <td>34.99</td>\n",
              "      <td>31.99</td>\n",
              "      <td>1</td>\n",
              "      <td>1364</td>\n",
              "    </tr>\n",
              "  </tbody>\n",
              "</table>\n",
              "</div>\n",
              "    <div class=\"colab-df-buttons\">\n",
              "\n",
              "  <div class=\"colab-df-container\">\n",
              "    <button class=\"colab-df-convert\" onclick=\"convertToInteractive('df-0b12d766-3401-482d-b4ca-5c3038cd3757')\"\n",
              "            title=\"Convert this dataframe to an interactive table.\"\n",
              "            style=\"display:none;\">\n",
              "\n",
              "  <svg xmlns=\"http://www.w3.org/2000/svg\" height=\"24px\" viewBox=\"0 -960 960 960\">\n",
              "    <path d=\"M120-120v-720h720v720H120Zm60-500h600v-160H180v160Zm220 220h160v-160H400v160Zm0 220h160v-160H400v160ZM180-400h160v-160H180v160Zm440 0h160v-160H620v160ZM180-180h160v-160H180v160Zm440 0h160v-160H620v160Z\"/>\n",
              "  </svg>\n",
              "    </button>\n",
              "\n",
              "  <style>\n",
              "    .colab-df-container {\n",
              "      display:flex;\n",
              "      gap: 12px;\n",
              "    }\n",
              "\n",
              "    .colab-df-convert {\n",
              "      background-color: #E8F0FE;\n",
              "      border: none;\n",
              "      border-radius: 50%;\n",
              "      cursor: pointer;\n",
              "      display: none;\n",
              "      fill: #1967D2;\n",
              "      height: 32px;\n",
              "      padding: 0 0 0 0;\n",
              "      width: 32px;\n",
              "    }\n",
              "\n",
              "    .colab-df-convert:hover {\n",
              "      background-color: #E2EBFA;\n",
              "      box-shadow: 0px 1px 2px rgba(60, 64, 67, 0.3), 0px 1px 3px 1px rgba(60, 64, 67, 0.15);\n",
              "      fill: #174EA6;\n",
              "    }\n",
              "\n",
              "    .colab-df-buttons div {\n",
              "      margin-bottom: 4px;\n",
              "    }\n",
              "\n",
              "    [theme=dark] .colab-df-convert {\n",
              "      background-color: #3B4455;\n",
              "      fill: #D2E3FC;\n",
              "    }\n",
              "\n",
              "    [theme=dark] .colab-df-convert:hover {\n",
              "      background-color: #434B5C;\n",
              "      box-shadow: 0px 1px 3px 1px rgba(0, 0, 0, 0.15);\n",
              "      filter: drop-shadow(0px 1px 2px rgba(0, 0, 0, 0.3));\n",
              "      fill: #FFFFFF;\n",
              "    }\n",
              "  </style>\n",
              "\n",
              "    <script>\n",
              "      const buttonEl =\n",
              "        document.querySelector('#df-0b12d766-3401-482d-b4ca-5c3038cd3757 button.colab-df-convert');\n",
              "      buttonEl.style.display =\n",
              "        google.colab.kernel.accessAllowed ? 'block' : 'none';\n",
              "\n",
              "      async function convertToInteractive(key) {\n",
              "        const element = document.querySelector('#df-0b12d766-3401-482d-b4ca-5c3038cd3757');\n",
              "        const dataTable =\n",
              "          await google.colab.kernel.invokeFunction('convertToInteractive',\n",
              "                                                    [key], {});\n",
              "        if (!dataTable) return;\n",
              "\n",
              "        const docLinkHtml = 'Like what you see? Visit the ' +\n",
              "          '<a target=\"_blank\" href=https://colab.research.google.com/notebooks/data_table.ipynb>data table notebook</a>'\n",
              "          + ' to learn more about interactive tables.';\n",
              "        element.innerHTML = '';\n",
              "        dataTable['output_type'] = 'display_data';\n",
              "        await google.colab.output.renderOutput(dataTable, element);\n",
              "        const docLink = document.createElement('div');\n",
              "        docLink.innerHTML = docLinkHtml;\n",
              "        element.appendChild(docLink);\n",
              "      }\n",
              "    </script>\n",
              "  </div>\n",
              "\n",
              "\n",
              "<div id=\"df-a8584d6a-58e2-4df4-adf2-92a02b24e0ce\">\n",
              "  <button class=\"colab-df-quickchart\" onclick=\"quickchart('df-a8584d6a-58e2-4df4-adf2-92a02b24e0ce')\"\n",
              "            title=\"Suggest charts\"\n",
              "            style=\"display:none;\">\n",
              "\n",
              "<svg xmlns=\"http://www.w3.org/2000/svg\" height=\"24px\"viewBox=\"0 0 24 24\"\n",
              "     width=\"24px\">\n",
              "    <g>\n",
              "        <path d=\"M19 3H5c-1.1 0-2 .9-2 2v14c0 1.1.9 2 2 2h14c1.1 0 2-.9 2-2V5c0-1.1-.9-2-2-2zM9 17H7v-7h2v7zm4 0h-2V7h2v10zm4 0h-2v-4h2v4z\"/>\n",
              "    </g>\n",
              "</svg>\n",
              "  </button>\n",
              "\n",
              "<style>\n",
              "  .colab-df-quickchart {\n",
              "      --bg-color: #E8F0FE;\n",
              "      --fill-color: #1967D2;\n",
              "      --hover-bg-color: #E2EBFA;\n",
              "      --hover-fill-color: #174EA6;\n",
              "      --disabled-fill-color: #AAA;\n",
              "      --disabled-bg-color: #DDD;\n",
              "  }\n",
              "\n",
              "  [theme=dark] .colab-df-quickchart {\n",
              "      --bg-color: #3B4455;\n",
              "      --fill-color: #D2E3FC;\n",
              "      --hover-bg-color: #434B5C;\n",
              "      --hover-fill-color: #FFFFFF;\n",
              "      --disabled-bg-color: #3B4455;\n",
              "      --disabled-fill-color: #666;\n",
              "  }\n",
              "\n",
              "  .colab-df-quickchart {\n",
              "    background-color: var(--bg-color);\n",
              "    border: none;\n",
              "    border-radius: 50%;\n",
              "    cursor: pointer;\n",
              "    display: none;\n",
              "    fill: var(--fill-color);\n",
              "    height: 32px;\n",
              "    padding: 0;\n",
              "    width: 32px;\n",
              "  }\n",
              "\n",
              "  .colab-df-quickchart:hover {\n",
              "    background-color: var(--hover-bg-color);\n",
              "    box-shadow: 0 1px 2px rgba(60, 64, 67, 0.3), 0 1px 3px 1px rgba(60, 64, 67, 0.15);\n",
              "    fill: var(--button-hover-fill-color);\n",
              "  }\n",
              "\n",
              "  .colab-df-quickchart-complete:disabled,\n",
              "  .colab-df-quickchart-complete:disabled:hover {\n",
              "    background-color: var(--disabled-bg-color);\n",
              "    fill: var(--disabled-fill-color);\n",
              "    box-shadow: none;\n",
              "  }\n",
              "\n",
              "  .colab-df-spinner {\n",
              "    border: 2px solid var(--fill-color);\n",
              "    border-color: transparent;\n",
              "    border-bottom-color: var(--fill-color);\n",
              "    animation:\n",
              "      spin 1s steps(1) infinite;\n",
              "  }\n",
              "\n",
              "  @keyframes spin {\n",
              "    0% {\n",
              "      border-color: transparent;\n",
              "      border-bottom-color: var(--fill-color);\n",
              "      border-left-color: var(--fill-color);\n",
              "    }\n",
              "    20% {\n",
              "      border-color: transparent;\n",
              "      border-left-color: var(--fill-color);\n",
              "      border-top-color: var(--fill-color);\n",
              "    }\n",
              "    30% {\n",
              "      border-color: transparent;\n",
              "      border-left-color: var(--fill-color);\n",
              "      border-top-color: var(--fill-color);\n",
              "      border-right-color: var(--fill-color);\n",
              "    }\n",
              "    40% {\n",
              "      border-color: transparent;\n",
              "      border-right-color: var(--fill-color);\n",
              "      border-top-color: var(--fill-color);\n",
              "    }\n",
              "    60% {\n",
              "      border-color: transparent;\n",
              "      border-right-color: var(--fill-color);\n",
              "    }\n",
              "    80% {\n",
              "      border-color: transparent;\n",
              "      border-right-color: var(--fill-color);\n",
              "      border-bottom-color: var(--fill-color);\n",
              "    }\n",
              "    90% {\n",
              "      border-color: transparent;\n",
              "      border-bottom-color: var(--fill-color);\n",
              "    }\n",
              "  }\n",
              "</style>\n",
              "\n",
              "  <script>\n",
              "    async function quickchart(key) {\n",
              "      const quickchartButtonEl =\n",
              "        document.querySelector('#' + key + ' button');\n",
              "      quickchartButtonEl.disabled = true;  // To prevent multiple clicks.\n",
              "      quickchartButtonEl.classList.add('colab-df-spinner');\n",
              "      try {\n",
              "        const charts = await google.colab.kernel.invokeFunction(\n",
              "            'suggestCharts', [key], {});\n",
              "      } catch (error) {\n",
              "        console.error('Error during call to suggestCharts:', error);\n",
              "      }\n",
              "      quickchartButtonEl.classList.remove('colab-df-spinner');\n",
              "      quickchartButtonEl.classList.add('colab-df-quickchart-complete');\n",
              "    }\n",
              "    (() => {\n",
              "      let quickchartButtonEl =\n",
              "        document.querySelector('#df-a8584d6a-58e2-4df4-adf2-92a02b24e0ce button');\n",
              "      quickchartButtonEl.style.display =\n",
              "        google.colab.kernel.accessAllowed ? 'block' : 'none';\n",
              "    })();\n",
              "  </script>\n",
              "</div>\n",
              "    </div>\n",
              "  </div>\n"
            ],
            "application/vnd.google.colaboratory.intrinsic+json": {
              "type": "dataframe",
              "variable_name": "products_df",
              "summary": "{\n  \"name\": \"products_df\",\n  \"rows\": 19326,\n  \"fields\": [\n    {\n      \"column\": \"sku\",\n      \"properties\": {\n        \"dtype\": \"string\",\n        \"num_unique_values\": 10579,\n        \"samples\": [\n          \"PUR0153\",\n          \"XDO0039\",\n          \"LIF0132\"\n        ],\n        \"semantic_type\": \"\",\n        \"description\": \"\"\n      }\n    },\n    {\n      \"column\": \"name\",\n      \"properties\": {\n        \"dtype\": \"string\",\n        \"num_unique_values\": 10373,\n        \"samples\": [\n          \"iKettle Red teapot Case\",\n          \"Apple iPhone 6 Plus 64GB Space Gray\",\n          \"Support Kukaclip car + Funda iPhone 5 / 5S Black\"\n        ],\n        \"semantic_type\": \"\",\n        \"description\": \"\"\n      }\n    },\n    {\n      \"column\": \"desc\",\n      \"properties\": {\n        \"dtype\": \"category\",\n        \"num_unique_values\": 7098,\n        \"samples\": [\n          \"Protective Case for iPad Air 2 and iPad Pro 97\",\n          \"IMac desktop computer 27 inch 5K Retina i5 3.3GHz 256GB Flash RAM 16GB (MK482Y / A).\",\n          \"Create and schedule your Android Meebot of Ubtech from your iPhone or iPad\"\n        ],\n        \"semantic_type\": \"\",\n        \"description\": \"\"\n      }\n    },\n    {\n      \"column\": \"price\",\n      \"properties\": {\n        \"dtype\": \"category\",\n        \"num_unique_values\": 2690,\n        \"samples\": [\n          \"83.281.154\",\n          \"758.07\",\n          \"294\"\n        ],\n        \"semantic_type\": \"\",\n        \"description\": \"\"\n      }\n    },\n    {\n      \"column\": \"promo_price\",\n      \"properties\": {\n        \"dtype\": \"category\",\n        \"num_unique_values\": 4614,\n        \"samples\": [\n          \"382.796\",\n          \"40.795\",\n          \"1.729.901\"\n        ],\n        \"semantic_type\": \"\",\n        \"description\": \"\"\n      }\n    },\n    {\n      \"column\": \"in_stock\",\n      \"properties\": {\n        \"dtype\": \"number\",\n        \"std\": 0,\n        \"min\": 0,\n        \"max\": 1,\n        \"num_unique_values\": 2,\n        \"samples\": [\n          0,\n          1\n        ],\n        \"semantic_type\": \"\",\n        \"description\": \"\"\n      }\n    },\n    {\n      \"column\": \"type\",\n      \"properties\": {\n        \"dtype\": \"category\",\n        \"num_unique_values\": 126,\n        \"samples\": [\n          \"2434\",\n          \"12755395\"\n        ],\n        \"semantic_type\": \"\",\n        \"description\": \"\"\n      }\n    }\n  ]\n}"
            }
          },
          "metadata": {},
          "execution_count": 25
        }
      ]
    },
    {
      "cell_type": "code",
      "source": [
        "products_df.info()"
      ],
      "metadata": {
        "id": "per_bjhcO0_L",
        "colab": {
          "base_uri": "https://localhost:8080/"
        },
        "outputId": "3a8e5eb2-a6b3-4e78-84b6-f18d2ab4091f"
      },
      "execution_count": null,
      "outputs": [
        {
          "output_type": "stream",
          "name": "stdout",
          "text": [
            "<class 'pandas.core.frame.DataFrame'>\n",
            "RangeIndex: 19326 entries, 0 to 19325\n",
            "Data columns (total 7 columns):\n",
            " #   Column       Non-Null Count  Dtype \n",
            "---  ------       --------------  ----- \n",
            " 0   sku          19326 non-null  object\n",
            " 1   name         19326 non-null  object\n",
            " 2   desc         19319 non-null  object\n",
            " 3   price        19280 non-null  object\n",
            " 4   promo_price  19326 non-null  object\n",
            " 5   in_stock     19326 non-null  int64 \n",
            " 6   type         19276 non-null  object\n",
            "dtypes: int64(1), object(6)\n",
            "memory usage: 1.0+ MB\n"
          ]
        }
      ]
    },
    {
      "cell_type": "markdown",
      "source": [
        "We'll go through the steps above in order\n",
        "* Duplicates\n",
        "* Missing values\n",
        "* Datatypes\n",
        "\n",
        "But I think we can all see straight away from `products.head()` above that some of the prices in `promo_price` look wrong. Let's make sure we deal with this later."
      ],
      "metadata": {
        "id": "eJJELJjD9l3W"
      }
    },
    {
      "cell_type": "markdown",
      "source": [
        "## Duplicates"
      ],
      "metadata": {
        "id": "DyTfC-WY-IWe"
      }
    },
    {
      "cell_type": "code",
      "source": [
        "products_df.duplicated().sum()"
      ],
      "metadata": {
        "id": "7WzmgCuz9X1x",
        "colab": {
          "base_uri": "https://localhost:8080/"
        },
        "outputId": "d520b11a-8cfd-41da-95af-64b8aa5a573b"
      },
      "execution_count": null,
      "outputs": [
        {
          "output_type": "execute_result",
          "data": {
            "text/plain": [
              "8746"
            ]
          },
          "metadata": {},
          "execution_count": 27
        }
      ]
    },
    {
      "cell_type": "markdown",
      "source": [
        "Wow, that's a lot of duplicates. Let's get rid of them."
      ],
      "metadata": {
        "id": "goe2v94N-Oyk"
      }
    },
    {
      "cell_type": "code",
      "source": [
        "products_df = products_df.drop_duplicates()"
      ],
      "metadata": {
        "id": "aP-EeieW-N5i"
      },
      "execution_count": null,
      "outputs": []
    },
    {
      "cell_type": "code",
      "source": [
        "products_df"
      ],
      "metadata": {
        "colab": {
          "base_uri": "https://localhost:8080/",
          "height": 424
        },
        "id": "i8kUJuWqbVXG",
        "outputId": "8548d820-be52-454b-fe8f-b42bafc16da4"
      },
      "execution_count": null,
      "outputs": [
        {
          "output_type": "execute_result",
          "data": {
            "text/plain": [
              "           sku                                           name  \\\n",
              "0      RAI0007              Silver Rain Design mStand Support   \n",
              "1      APP0023              Apple Mac Keyboard Keypad Spanish   \n",
              "2      APP0025               Mighty Mouse Apple Mouse for Mac   \n",
              "3      APP0072  Apple Dock to USB Cable iPhone and iPod white   \n",
              "4      KIN0007    Mac Memory Kingston 2GB 667MHz DDR2 SO-DIMM   \n",
              "...        ...                                            ...   \n",
              "19321  BEL0376        Belkin Travel Support Apple Watch Black   \n",
              "19322  THU0060   Enroute Thule 14L Backpack MacBook 13 \"Black   \n",
              "19323  THU0061    Enroute Thule 14L Backpack MacBook 13 \"Blue   \n",
              "19324  THU0062     Enroute Thule 14L Backpack MacBook 13 \"Red   \n",
              "19325  THU0063   Enroute Thule 14L Backpack MacBook 13 \"Green   \n",
              "\n",
              "                                                                                                desc  \\\n",
              "0                                                       Aluminum support compatible with all MacBook   \n",
              "1                                                          USB ultrathin keyboard Apple Mac Spanish.   \n",
              "2                                                                             mouse Apple USB cable.   \n",
              "3                                                              IPhone dock and USB Cable Apple iPod.   \n",
              "4                                      2GB RAM Mac mini and iMac (2006/07) MacBook Pro (2006/07/08).   \n",
              "...                                                                                              ...   \n",
              "19321                          compact and portable stand vertically or horizontally for Apple Watch   \n",
              "19322  Backpack with capacity of 14 liter compartments MacBook up to 13 inches up to 10 inches Cases   \n",
              "19323  Backpack with capacity of 14 liter compartments MacBook up to 13 inches up to 10 inches Cases   \n",
              "19324  Backpack with capacity of 14 liter compartments MacBook up to 13 inches up to 10 inches Cases   \n",
              "19325  Backpack with capacity of 14 liter compartments MacBook up to 13 inches up to 10 inches Cases   \n",
              "\n",
              "       price promo_price  in_stock      type  \n",
              "0      59.99     499.899         1      8696  \n",
              "1         59     589.996         0  13855401  \n",
              "2         59     569.898         0      1387  \n",
              "3         25     229.997         0      1230  \n",
              "4      34.99       31.99         1      1364  \n",
              "...      ...         ...       ...       ...  \n",
              "19321  29.99     269.903         1     12282  \n",
              "19322  69.95     649.903         1      1392  \n",
              "19323  69.95     649.903         1      1392  \n",
              "19324  69.95     649.903         0      1392  \n",
              "19325  69.95     649.903         1      1392  \n",
              "\n",
              "[10580 rows x 7 columns]"
            ],
            "text/html": [
              "\n",
              "  <div id=\"df-8c3a6e6f-f6b6-484a-97b6-19b1fe0311f9\" class=\"colab-df-container\">\n",
              "    <div>\n",
              "<style scoped>\n",
              "    .dataframe tbody tr th:only-of-type {\n",
              "        vertical-align: middle;\n",
              "    }\n",
              "\n",
              "    .dataframe tbody tr th {\n",
              "        vertical-align: top;\n",
              "    }\n",
              "\n",
              "    .dataframe thead th {\n",
              "        text-align: right;\n",
              "    }\n",
              "</style>\n",
              "<table border=\"1\" class=\"dataframe\">\n",
              "  <thead>\n",
              "    <tr style=\"text-align: right;\">\n",
              "      <th></th>\n",
              "      <th>sku</th>\n",
              "      <th>name</th>\n",
              "      <th>desc</th>\n",
              "      <th>price</th>\n",
              "      <th>promo_price</th>\n",
              "      <th>in_stock</th>\n",
              "      <th>type</th>\n",
              "    </tr>\n",
              "  </thead>\n",
              "  <tbody>\n",
              "    <tr>\n",
              "      <th>0</th>\n",
              "      <td>RAI0007</td>\n",
              "      <td>Silver Rain Design mStand Support</td>\n",
              "      <td>Aluminum support compatible with all MacBook</td>\n",
              "      <td>59.99</td>\n",
              "      <td>499.899</td>\n",
              "      <td>1</td>\n",
              "      <td>8696</td>\n",
              "    </tr>\n",
              "    <tr>\n",
              "      <th>1</th>\n",
              "      <td>APP0023</td>\n",
              "      <td>Apple Mac Keyboard Keypad Spanish</td>\n",
              "      <td>USB ultrathin keyboard Apple Mac Spanish.</td>\n",
              "      <td>59</td>\n",
              "      <td>589.996</td>\n",
              "      <td>0</td>\n",
              "      <td>13855401</td>\n",
              "    </tr>\n",
              "    <tr>\n",
              "      <th>2</th>\n",
              "      <td>APP0025</td>\n",
              "      <td>Mighty Mouse Apple Mouse for Mac</td>\n",
              "      <td>mouse Apple USB cable.</td>\n",
              "      <td>59</td>\n",
              "      <td>569.898</td>\n",
              "      <td>0</td>\n",
              "      <td>1387</td>\n",
              "    </tr>\n",
              "    <tr>\n",
              "      <th>3</th>\n",
              "      <td>APP0072</td>\n",
              "      <td>Apple Dock to USB Cable iPhone and iPod white</td>\n",
              "      <td>IPhone dock and USB Cable Apple iPod.</td>\n",
              "      <td>25</td>\n",
              "      <td>229.997</td>\n",
              "      <td>0</td>\n",
              "      <td>1230</td>\n",
              "    </tr>\n",
              "    <tr>\n",
              "      <th>4</th>\n",
              "      <td>KIN0007</td>\n",
              "      <td>Mac Memory Kingston 2GB 667MHz DDR2 SO-DIMM</td>\n",
              "      <td>2GB RAM Mac mini and iMac (2006/07) MacBook Pro (2006/07/08).</td>\n",
              "      <td>34.99</td>\n",
              "      <td>31.99</td>\n",
              "      <td>1</td>\n",
              "      <td>1364</td>\n",
              "    </tr>\n",
              "    <tr>\n",
              "      <th>...</th>\n",
              "      <td>...</td>\n",
              "      <td>...</td>\n",
              "      <td>...</td>\n",
              "      <td>...</td>\n",
              "      <td>...</td>\n",
              "      <td>...</td>\n",
              "      <td>...</td>\n",
              "    </tr>\n",
              "    <tr>\n",
              "      <th>19321</th>\n",
              "      <td>BEL0376</td>\n",
              "      <td>Belkin Travel Support Apple Watch Black</td>\n",
              "      <td>compact and portable stand vertically or horizontally for Apple Watch</td>\n",
              "      <td>29.99</td>\n",
              "      <td>269.903</td>\n",
              "      <td>1</td>\n",
              "      <td>12282</td>\n",
              "    </tr>\n",
              "    <tr>\n",
              "      <th>19322</th>\n",
              "      <td>THU0060</td>\n",
              "      <td>Enroute Thule 14L Backpack MacBook 13 \"Black</td>\n",
              "      <td>Backpack with capacity of 14 liter compartments MacBook up to 13 inches up to 10 inches Cases</td>\n",
              "      <td>69.95</td>\n",
              "      <td>649.903</td>\n",
              "      <td>1</td>\n",
              "      <td>1392</td>\n",
              "    </tr>\n",
              "    <tr>\n",
              "      <th>19323</th>\n",
              "      <td>THU0061</td>\n",
              "      <td>Enroute Thule 14L Backpack MacBook 13 \"Blue</td>\n",
              "      <td>Backpack with capacity of 14 liter compartments MacBook up to 13 inches up to 10 inches Cases</td>\n",
              "      <td>69.95</td>\n",
              "      <td>649.903</td>\n",
              "      <td>1</td>\n",
              "      <td>1392</td>\n",
              "    </tr>\n",
              "    <tr>\n",
              "      <th>19324</th>\n",
              "      <td>THU0062</td>\n",
              "      <td>Enroute Thule 14L Backpack MacBook 13 \"Red</td>\n",
              "      <td>Backpack with capacity of 14 liter compartments MacBook up to 13 inches up to 10 inches Cases</td>\n",
              "      <td>69.95</td>\n",
              "      <td>649.903</td>\n",
              "      <td>0</td>\n",
              "      <td>1392</td>\n",
              "    </tr>\n",
              "    <tr>\n",
              "      <th>19325</th>\n",
              "      <td>THU0063</td>\n",
              "      <td>Enroute Thule 14L Backpack MacBook 13 \"Green</td>\n",
              "      <td>Backpack with capacity of 14 liter compartments MacBook up to 13 inches up to 10 inches Cases</td>\n",
              "      <td>69.95</td>\n",
              "      <td>649.903</td>\n",
              "      <td>1</td>\n",
              "      <td>1392</td>\n",
              "    </tr>\n",
              "  </tbody>\n",
              "</table>\n",
              "<p>10580 rows × 7 columns</p>\n",
              "</div>\n",
              "    <div class=\"colab-df-buttons\">\n",
              "\n",
              "  <div class=\"colab-df-container\">\n",
              "    <button class=\"colab-df-convert\" onclick=\"convertToInteractive('df-8c3a6e6f-f6b6-484a-97b6-19b1fe0311f9')\"\n",
              "            title=\"Convert this dataframe to an interactive table.\"\n",
              "            style=\"display:none;\">\n",
              "\n",
              "  <svg xmlns=\"http://www.w3.org/2000/svg\" height=\"24px\" viewBox=\"0 -960 960 960\">\n",
              "    <path d=\"M120-120v-720h720v720H120Zm60-500h600v-160H180v160Zm220 220h160v-160H400v160Zm0 220h160v-160H400v160ZM180-400h160v-160H180v160Zm440 0h160v-160H620v160ZM180-180h160v-160H180v160Zm440 0h160v-160H620v160Z\"/>\n",
              "  </svg>\n",
              "    </button>\n",
              "\n",
              "  <style>\n",
              "    .colab-df-container {\n",
              "      display:flex;\n",
              "      gap: 12px;\n",
              "    }\n",
              "\n",
              "    .colab-df-convert {\n",
              "      background-color: #E8F0FE;\n",
              "      border: none;\n",
              "      border-radius: 50%;\n",
              "      cursor: pointer;\n",
              "      display: none;\n",
              "      fill: #1967D2;\n",
              "      height: 32px;\n",
              "      padding: 0 0 0 0;\n",
              "      width: 32px;\n",
              "    }\n",
              "\n",
              "    .colab-df-convert:hover {\n",
              "      background-color: #E2EBFA;\n",
              "      box-shadow: 0px 1px 2px rgba(60, 64, 67, 0.3), 0px 1px 3px 1px rgba(60, 64, 67, 0.15);\n",
              "      fill: #174EA6;\n",
              "    }\n",
              "\n",
              "    .colab-df-buttons div {\n",
              "      margin-bottom: 4px;\n",
              "    }\n",
              "\n",
              "    [theme=dark] .colab-df-convert {\n",
              "      background-color: #3B4455;\n",
              "      fill: #D2E3FC;\n",
              "    }\n",
              "\n",
              "    [theme=dark] .colab-df-convert:hover {\n",
              "      background-color: #434B5C;\n",
              "      box-shadow: 0px 1px 3px 1px rgba(0, 0, 0, 0.15);\n",
              "      filter: drop-shadow(0px 1px 2px rgba(0, 0, 0, 0.3));\n",
              "      fill: #FFFFFF;\n",
              "    }\n",
              "  </style>\n",
              "\n",
              "    <script>\n",
              "      const buttonEl =\n",
              "        document.querySelector('#df-8c3a6e6f-f6b6-484a-97b6-19b1fe0311f9 button.colab-df-convert');\n",
              "      buttonEl.style.display =\n",
              "        google.colab.kernel.accessAllowed ? 'block' : 'none';\n",
              "\n",
              "      async function convertToInteractive(key) {\n",
              "        const element = document.querySelector('#df-8c3a6e6f-f6b6-484a-97b6-19b1fe0311f9');\n",
              "        const dataTable =\n",
              "          await google.colab.kernel.invokeFunction('convertToInteractive',\n",
              "                                                    [key], {});\n",
              "        if (!dataTable) return;\n",
              "\n",
              "        const docLinkHtml = 'Like what you see? Visit the ' +\n",
              "          '<a target=\"_blank\" href=https://colab.research.google.com/notebooks/data_table.ipynb>data table notebook</a>'\n",
              "          + ' to learn more about interactive tables.';\n",
              "        element.innerHTML = '';\n",
              "        dataTable['output_type'] = 'display_data';\n",
              "        await google.colab.output.renderOutput(dataTable, element);\n",
              "        const docLink = document.createElement('div');\n",
              "        docLink.innerHTML = docLinkHtml;\n",
              "        element.appendChild(docLink);\n",
              "      }\n",
              "    </script>\n",
              "  </div>\n",
              "\n",
              "\n",
              "<div id=\"df-3a17e903-c495-482f-966b-7165f7b777a6\">\n",
              "  <button class=\"colab-df-quickchart\" onclick=\"quickchart('df-3a17e903-c495-482f-966b-7165f7b777a6')\"\n",
              "            title=\"Suggest charts\"\n",
              "            style=\"display:none;\">\n",
              "\n",
              "<svg xmlns=\"http://www.w3.org/2000/svg\" height=\"24px\"viewBox=\"0 0 24 24\"\n",
              "     width=\"24px\">\n",
              "    <g>\n",
              "        <path d=\"M19 3H5c-1.1 0-2 .9-2 2v14c0 1.1.9 2 2 2h14c1.1 0 2-.9 2-2V5c0-1.1-.9-2-2-2zM9 17H7v-7h2v7zm4 0h-2V7h2v10zm4 0h-2v-4h2v4z\"/>\n",
              "    </g>\n",
              "</svg>\n",
              "  </button>\n",
              "\n",
              "<style>\n",
              "  .colab-df-quickchart {\n",
              "      --bg-color: #E8F0FE;\n",
              "      --fill-color: #1967D2;\n",
              "      --hover-bg-color: #E2EBFA;\n",
              "      --hover-fill-color: #174EA6;\n",
              "      --disabled-fill-color: #AAA;\n",
              "      --disabled-bg-color: #DDD;\n",
              "  }\n",
              "\n",
              "  [theme=dark] .colab-df-quickchart {\n",
              "      --bg-color: #3B4455;\n",
              "      --fill-color: #D2E3FC;\n",
              "      --hover-bg-color: #434B5C;\n",
              "      --hover-fill-color: #FFFFFF;\n",
              "      --disabled-bg-color: #3B4455;\n",
              "      --disabled-fill-color: #666;\n",
              "  }\n",
              "\n",
              "  .colab-df-quickchart {\n",
              "    background-color: var(--bg-color);\n",
              "    border: none;\n",
              "    border-radius: 50%;\n",
              "    cursor: pointer;\n",
              "    display: none;\n",
              "    fill: var(--fill-color);\n",
              "    height: 32px;\n",
              "    padding: 0;\n",
              "    width: 32px;\n",
              "  }\n",
              "\n",
              "  .colab-df-quickchart:hover {\n",
              "    background-color: var(--hover-bg-color);\n",
              "    box-shadow: 0 1px 2px rgba(60, 64, 67, 0.3), 0 1px 3px 1px rgba(60, 64, 67, 0.15);\n",
              "    fill: var(--button-hover-fill-color);\n",
              "  }\n",
              "\n",
              "  .colab-df-quickchart-complete:disabled,\n",
              "  .colab-df-quickchart-complete:disabled:hover {\n",
              "    background-color: var(--disabled-bg-color);\n",
              "    fill: var(--disabled-fill-color);\n",
              "    box-shadow: none;\n",
              "  }\n",
              "\n",
              "  .colab-df-spinner {\n",
              "    border: 2px solid var(--fill-color);\n",
              "    border-color: transparent;\n",
              "    border-bottom-color: var(--fill-color);\n",
              "    animation:\n",
              "      spin 1s steps(1) infinite;\n",
              "  }\n",
              "\n",
              "  @keyframes spin {\n",
              "    0% {\n",
              "      border-color: transparent;\n",
              "      border-bottom-color: var(--fill-color);\n",
              "      border-left-color: var(--fill-color);\n",
              "    }\n",
              "    20% {\n",
              "      border-color: transparent;\n",
              "      border-left-color: var(--fill-color);\n",
              "      border-top-color: var(--fill-color);\n",
              "    }\n",
              "    30% {\n",
              "      border-color: transparent;\n",
              "      border-left-color: var(--fill-color);\n",
              "      border-top-color: var(--fill-color);\n",
              "      border-right-color: var(--fill-color);\n",
              "    }\n",
              "    40% {\n",
              "      border-color: transparent;\n",
              "      border-right-color: var(--fill-color);\n",
              "      border-top-color: var(--fill-color);\n",
              "    }\n",
              "    60% {\n",
              "      border-color: transparent;\n",
              "      border-right-color: var(--fill-color);\n",
              "    }\n",
              "    80% {\n",
              "      border-color: transparent;\n",
              "      border-right-color: var(--fill-color);\n",
              "      border-bottom-color: var(--fill-color);\n",
              "    }\n",
              "    90% {\n",
              "      border-color: transparent;\n",
              "      border-bottom-color: var(--fill-color);\n",
              "    }\n",
              "  }\n",
              "</style>\n",
              "\n",
              "  <script>\n",
              "    async function quickchart(key) {\n",
              "      const quickchartButtonEl =\n",
              "        document.querySelector('#' + key + ' button');\n",
              "      quickchartButtonEl.disabled = true;  // To prevent multiple clicks.\n",
              "      quickchartButtonEl.classList.add('colab-df-spinner');\n",
              "      try {\n",
              "        const charts = await google.colab.kernel.invokeFunction(\n",
              "            'suggestCharts', [key], {});\n",
              "      } catch (error) {\n",
              "        console.error('Error during call to suggestCharts:', error);\n",
              "      }\n",
              "      quickchartButtonEl.classList.remove('colab-df-spinner');\n",
              "      quickchartButtonEl.classList.add('colab-df-quickchart-complete');\n",
              "    }\n",
              "    (() => {\n",
              "      let quickchartButtonEl =\n",
              "        document.querySelector('#df-3a17e903-c495-482f-966b-7165f7b777a6 button');\n",
              "      quickchartButtonEl.style.display =\n",
              "        google.colab.kernel.accessAllowed ? 'block' : 'none';\n",
              "    })();\n",
              "  </script>\n",
              "</div>\n",
              "    </div>\n",
              "  </div>\n"
            ],
            "application/vnd.google.colaboratory.intrinsic+json": {
              "type": "dataframe",
              "variable_name": "products_df",
              "summary": "{\n  \"name\": \"products_df\",\n  \"rows\": 10580,\n  \"fields\": [\n    {\n      \"column\": \"sku\",\n      \"properties\": {\n        \"dtype\": \"string\",\n        \"num_unique_values\": 10579,\n        \"samples\": [\n          \"PUR0153\",\n          \"XDO0039\",\n          \"LIF0132\"\n        ],\n        \"semantic_type\": \"\",\n        \"description\": \"\"\n      }\n    },\n    {\n      \"column\": \"name\",\n      \"properties\": {\n        \"dtype\": \"string\",\n        \"num_unique_values\": 10373,\n        \"samples\": [\n          \"iKettle Red teapot Case\",\n          \"Apple iPhone 6 Plus 64GB Space Gray\",\n          \"Support Kukaclip car + Funda iPhone 5 / 5S Black\"\n        ],\n        \"semantic_type\": \"\",\n        \"description\": \"\"\n      }\n    },\n    {\n      \"column\": \"desc\",\n      \"properties\": {\n        \"dtype\": \"string\",\n        \"num_unique_values\": 7098,\n        \"samples\": [\n          \"Protective Case for iPad Air 2 and iPad Pro 97\",\n          \"IMac desktop computer 27 inch 5K Retina i5 3.3GHz 256GB Flash RAM 16GB (MK482Y / A).\",\n          \"Create and schedule your Android Meebot of Ubtech from your iPhone or iPad\"\n        ],\n        \"semantic_type\": \"\",\n        \"description\": \"\"\n      }\n    },\n    {\n      \"column\": \"price\",\n      \"properties\": {\n        \"dtype\": \"category\",\n        \"num_unique_values\": 2690,\n        \"samples\": [\n          \"83.281.154\",\n          \"758.07\",\n          \"294\"\n        ],\n        \"semantic_type\": \"\",\n        \"description\": \"\"\n      }\n    },\n    {\n      \"column\": \"promo_price\",\n      \"properties\": {\n        \"dtype\": \"category\",\n        \"num_unique_values\": 4614,\n        \"samples\": [\n          \"382.796\",\n          \"40.795\",\n          \"1.729.901\"\n        ],\n        \"semantic_type\": \"\",\n        \"description\": \"\"\n      }\n    },\n    {\n      \"column\": \"in_stock\",\n      \"properties\": {\n        \"dtype\": \"number\",\n        \"std\": 0,\n        \"min\": 0,\n        \"max\": 1,\n        \"num_unique_values\": 2,\n        \"samples\": [\n          0,\n          1\n        ],\n        \"semantic_type\": \"\",\n        \"description\": \"\"\n      }\n    },\n    {\n      \"column\": \"type\",\n      \"properties\": {\n        \"dtype\": \"category\",\n        \"num_unique_values\": 126,\n        \"samples\": [\n          \"2434\",\n          \"12755395\"\n        ],\n        \"semantic_type\": \"\",\n        \"description\": \"\"\n      }\n    }\n  ]\n}"
            }
          },
          "metadata": {},
          "execution_count": 29
        }
      ]
    },
    {
      "cell_type": "markdown",
      "source": [
        "## `.info()`"
      ],
      "metadata": {
        "id": "kAgpknOR-zAg"
      }
    },
    {
      "cell_type": "code",
      "source": [
        "products_df.info()"
      ],
      "metadata": {
        "id": "MXZXRvUa_GTW",
        "colab": {
          "base_uri": "https://localhost:8080/"
        },
        "outputId": "3968bce2-936f-4179-81c1-245f8f9498ac"
      },
      "execution_count": null,
      "outputs": [
        {
          "output_type": "stream",
          "name": "stdout",
          "text": [
            "<class 'pandas.core.frame.DataFrame'>\n",
            "Index: 10580 entries, 0 to 19325\n",
            "Data columns (total 7 columns):\n",
            " #   Column       Non-Null Count  Dtype \n",
            "---  ------       --------------  ----- \n",
            " 0   sku          10580 non-null  object\n",
            " 1   name         10580 non-null  object\n",
            " 2   desc         10573 non-null  object\n",
            " 3   price        10534 non-null  object\n",
            " 4   promo_price  10580 non-null  object\n",
            " 5   in_stock     10580 non-null  int64 \n",
            " 6   type         10530 non-null  object\n",
            "dtypes: int64(1), object(6)\n",
            "memory usage: 661.2+ KB\n"
          ]
        }
      ]
    },
    {
      "cell_type": "markdown",
      "source": [
        "### Missing values\n",
        "We can see from `.info()` above that we have missing values in `desc` and `price`"
      ],
      "metadata": {
        "id": "XTGqkqtm--ln"
      }
    },
    {
      "cell_type": "markdown",
      "source": [
        "#### `desc`"
      ],
      "metadata": {
        "id": "LnW3DuWh_ZFr"
      }
    },
    {
      "cell_type": "code",
      "source": [
        "products_df[\"desc\"].isna().sum()"
      ],
      "metadata": {
        "id": "1cS0Zz9kSNrr",
        "colab": {
          "base_uri": "https://localhost:8080/"
        },
        "outputId": "753a5fa0-99f6-4b5f-8b7e-6a8ab03cbe59"
      },
      "execution_count": null,
      "outputs": [
        {
          "output_type": "execute_result",
          "data": {
            "text/plain": [
              "7"
            ]
          },
          "metadata": {},
          "execution_count": 31
        }
      ]
    },
    {
      "cell_type": "markdown",
      "source": [
        "7 is a very small number to have missing, let's have a closer look"
      ],
      "metadata": {
        "id": "tiRskHsWlrqC"
      }
    },
    {
      "cell_type": "code",
      "source": [
        "products_df.loc[products_df['desc'].isna(), :]"
      ],
      "metadata": {
        "id": "eK9_QN6H-klR",
        "colab": {
          "base_uri": "https://localhost:8080/",
          "height": 269
        },
        "outputId": "04272f99-4ff8-4a48-a3ee-4a42d2b65342"
      },
      "execution_count": null,
      "outputs": [
        {
          "output_type": "execute_result",
          "data": {
            "text/plain": [
              "             sku  \\\n",
              "16126  WDT0211-A   \n",
              "16128  APP1622-A   \n",
              "17843    PAC2334   \n",
              "18152  KAN0034-A   \n",
              "18490    HTE0025   \n",
              "18612    OTT0200   \n",
              "18690  HOW0001-A   \n",
              "\n",
              "                                                                                name  \\\n",
              "16126                    Open - Purple 2TB WD 35 \"PC Security Mac hard drive and NAS   \n",
              "16128                      Open - Apple Smart Keyboard Pro Keyboard Folio iPad 9.7 \"   \n",
              "17843                                         Synology DS718 + NAS Server | 10GB RAM   \n",
              "18152                       Open - Kanex USB-C Gigabit Ethernet Adapter MacBook 12 \"   \n",
              "18490                    Hyper Pearl 1600mAh battery Mini USB Mirror and Comic Blond   \n",
              "18612                                OtterBox External Battery Power Pack 20000 mAHr   \n",
              "18690  Open - Honeywell thermostat Lyric zonificador T6 Intelligent Wireless (cable)   \n",
              "\n",
              "      desc      price promo_price  in_stock      type  \n",
              "16126  NaN        107     814.659         0      1298  \n",
              "16128  NaN  1.568.206   1.568.206         0      1298  \n",
              "17843  NaN     566.35   5.659.896         0  12175397  \n",
              "18152  NaN      29.99     237.925         0      1298  \n",
              "18490  NaN      24.99       22.99         1      1515  \n",
              "18612  NaN      79.99       56.99         1      1515  \n",
              "18690  NaN     199.99   1.441.174         0  11905404  "
            ],
            "text/html": [
              "\n",
              "  <div id=\"df-b3c7d3c9-6c79-4e7a-8110-29b31a305b4d\" class=\"colab-df-container\">\n",
              "    <div>\n",
              "<style scoped>\n",
              "    .dataframe tbody tr th:only-of-type {\n",
              "        vertical-align: middle;\n",
              "    }\n",
              "\n",
              "    .dataframe tbody tr th {\n",
              "        vertical-align: top;\n",
              "    }\n",
              "\n",
              "    .dataframe thead th {\n",
              "        text-align: right;\n",
              "    }\n",
              "</style>\n",
              "<table border=\"1\" class=\"dataframe\">\n",
              "  <thead>\n",
              "    <tr style=\"text-align: right;\">\n",
              "      <th></th>\n",
              "      <th>sku</th>\n",
              "      <th>name</th>\n",
              "      <th>desc</th>\n",
              "      <th>price</th>\n",
              "      <th>promo_price</th>\n",
              "      <th>in_stock</th>\n",
              "      <th>type</th>\n",
              "    </tr>\n",
              "  </thead>\n",
              "  <tbody>\n",
              "    <tr>\n",
              "      <th>16126</th>\n",
              "      <td>WDT0211-A</td>\n",
              "      <td>Open - Purple 2TB WD 35 \"PC Security Mac hard drive and NAS</td>\n",
              "      <td>NaN</td>\n",
              "      <td>107</td>\n",
              "      <td>814.659</td>\n",
              "      <td>0</td>\n",
              "      <td>1298</td>\n",
              "    </tr>\n",
              "    <tr>\n",
              "      <th>16128</th>\n",
              "      <td>APP1622-A</td>\n",
              "      <td>Open - Apple Smart Keyboard Pro Keyboard Folio iPad 9.7 \"</td>\n",
              "      <td>NaN</td>\n",
              "      <td>1.568.206</td>\n",
              "      <td>1.568.206</td>\n",
              "      <td>0</td>\n",
              "      <td>1298</td>\n",
              "    </tr>\n",
              "    <tr>\n",
              "      <th>17843</th>\n",
              "      <td>PAC2334</td>\n",
              "      <td>Synology DS718 + NAS Server | 10GB RAM</td>\n",
              "      <td>NaN</td>\n",
              "      <td>566.35</td>\n",
              "      <td>5.659.896</td>\n",
              "      <td>0</td>\n",
              "      <td>12175397</td>\n",
              "    </tr>\n",
              "    <tr>\n",
              "      <th>18152</th>\n",
              "      <td>KAN0034-A</td>\n",
              "      <td>Open - Kanex USB-C Gigabit Ethernet Adapter MacBook 12 \"</td>\n",
              "      <td>NaN</td>\n",
              "      <td>29.99</td>\n",
              "      <td>237.925</td>\n",
              "      <td>0</td>\n",
              "      <td>1298</td>\n",
              "    </tr>\n",
              "    <tr>\n",
              "      <th>18490</th>\n",
              "      <td>HTE0025</td>\n",
              "      <td>Hyper Pearl 1600mAh battery Mini USB Mirror and Comic Blond</td>\n",
              "      <td>NaN</td>\n",
              "      <td>24.99</td>\n",
              "      <td>22.99</td>\n",
              "      <td>1</td>\n",
              "      <td>1515</td>\n",
              "    </tr>\n",
              "    <tr>\n",
              "      <th>18612</th>\n",
              "      <td>OTT0200</td>\n",
              "      <td>OtterBox External Battery Power Pack 20000 mAHr</td>\n",
              "      <td>NaN</td>\n",
              "      <td>79.99</td>\n",
              "      <td>56.99</td>\n",
              "      <td>1</td>\n",
              "      <td>1515</td>\n",
              "    </tr>\n",
              "    <tr>\n",
              "      <th>18690</th>\n",
              "      <td>HOW0001-A</td>\n",
              "      <td>Open - Honeywell thermostat Lyric zonificador T6 Intelligent Wireless (cable)</td>\n",
              "      <td>NaN</td>\n",
              "      <td>199.99</td>\n",
              "      <td>1.441.174</td>\n",
              "      <td>0</td>\n",
              "      <td>11905404</td>\n",
              "    </tr>\n",
              "  </tbody>\n",
              "</table>\n",
              "</div>\n",
              "    <div class=\"colab-df-buttons\">\n",
              "\n",
              "  <div class=\"colab-df-container\">\n",
              "    <button class=\"colab-df-convert\" onclick=\"convertToInteractive('df-b3c7d3c9-6c79-4e7a-8110-29b31a305b4d')\"\n",
              "            title=\"Convert this dataframe to an interactive table.\"\n",
              "            style=\"display:none;\">\n",
              "\n",
              "  <svg xmlns=\"http://www.w3.org/2000/svg\" height=\"24px\" viewBox=\"0 -960 960 960\">\n",
              "    <path d=\"M120-120v-720h720v720H120Zm60-500h600v-160H180v160Zm220 220h160v-160H400v160Zm0 220h160v-160H400v160ZM180-400h160v-160H180v160Zm440 0h160v-160H620v160ZM180-180h160v-160H180v160Zm440 0h160v-160H620v160Z\"/>\n",
              "  </svg>\n",
              "    </button>\n",
              "\n",
              "  <style>\n",
              "    .colab-df-container {\n",
              "      display:flex;\n",
              "      gap: 12px;\n",
              "    }\n",
              "\n",
              "    .colab-df-convert {\n",
              "      background-color: #E8F0FE;\n",
              "      border: none;\n",
              "      border-radius: 50%;\n",
              "      cursor: pointer;\n",
              "      display: none;\n",
              "      fill: #1967D2;\n",
              "      height: 32px;\n",
              "      padding: 0 0 0 0;\n",
              "      width: 32px;\n",
              "    }\n",
              "\n",
              "    .colab-df-convert:hover {\n",
              "      background-color: #E2EBFA;\n",
              "      box-shadow: 0px 1px 2px rgba(60, 64, 67, 0.3), 0px 1px 3px 1px rgba(60, 64, 67, 0.15);\n",
              "      fill: #174EA6;\n",
              "    }\n",
              "\n",
              "    .colab-df-buttons div {\n",
              "      margin-bottom: 4px;\n",
              "    }\n",
              "\n",
              "    [theme=dark] .colab-df-convert {\n",
              "      background-color: #3B4455;\n",
              "      fill: #D2E3FC;\n",
              "    }\n",
              "\n",
              "    [theme=dark] .colab-df-convert:hover {\n",
              "      background-color: #434B5C;\n",
              "      box-shadow: 0px 1px 3px 1px rgba(0, 0, 0, 0.15);\n",
              "      filter: drop-shadow(0px 1px 2px rgba(0, 0, 0, 0.3));\n",
              "      fill: #FFFFFF;\n",
              "    }\n",
              "  </style>\n",
              "\n",
              "    <script>\n",
              "      const buttonEl =\n",
              "        document.querySelector('#df-b3c7d3c9-6c79-4e7a-8110-29b31a305b4d button.colab-df-convert');\n",
              "      buttonEl.style.display =\n",
              "        google.colab.kernel.accessAllowed ? 'block' : 'none';\n",
              "\n",
              "      async function convertToInteractive(key) {\n",
              "        const element = document.querySelector('#df-b3c7d3c9-6c79-4e7a-8110-29b31a305b4d');\n",
              "        const dataTable =\n",
              "          await google.colab.kernel.invokeFunction('convertToInteractive',\n",
              "                                                    [key], {});\n",
              "        if (!dataTable) return;\n",
              "\n",
              "        const docLinkHtml = 'Like what you see? Visit the ' +\n",
              "          '<a target=\"_blank\" href=https://colab.research.google.com/notebooks/data_table.ipynb>data table notebook</a>'\n",
              "          + ' to learn more about interactive tables.';\n",
              "        element.innerHTML = '';\n",
              "        dataTable['output_type'] = 'display_data';\n",
              "        await google.colab.output.renderOutput(dataTable, element);\n",
              "        const docLink = document.createElement('div');\n",
              "        docLink.innerHTML = docLinkHtml;\n",
              "        element.appendChild(docLink);\n",
              "      }\n",
              "    </script>\n",
              "  </div>\n",
              "\n",
              "\n",
              "<div id=\"df-3738275b-ed70-45f8-a96e-a3ae0422b821\">\n",
              "  <button class=\"colab-df-quickchart\" onclick=\"quickchart('df-3738275b-ed70-45f8-a96e-a3ae0422b821')\"\n",
              "            title=\"Suggest charts\"\n",
              "            style=\"display:none;\">\n",
              "\n",
              "<svg xmlns=\"http://www.w3.org/2000/svg\" height=\"24px\"viewBox=\"0 0 24 24\"\n",
              "     width=\"24px\">\n",
              "    <g>\n",
              "        <path d=\"M19 3H5c-1.1 0-2 .9-2 2v14c0 1.1.9 2 2 2h14c1.1 0 2-.9 2-2V5c0-1.1-.9-2-2-2zM9 17H7v-7h2v7zm4 0h-2V7h2v10zm4 0h-2v-4h2v4z\"/>\n",
              "    </g>\n",
              "</svg>\n",
              "  </button>\n",
              "\n",
              "<style>\n",
              "  .colab-df-quickchart {\n",
              "      --bg-color: #E8F0FE;\n",
              "      --fill-color: #1967D2;\n",
              "      --hover-bg-color: #E2EBFA;\n",
              "      --hover-fill-color: #174EA6;\n",
              "      --disabled-fill-color: #AAA;\n",
              "      --disabled-bg-color: #DDD;\n",
              "  }\n",
              "\n",
              "  [theme=dark] .colab-df-quickchart {\n",
              "      --bg-color: #3B4455;\n",
              "      --fill-color: #D2E3FC;\n",
              "      --hover-bg-color: #434B5C;\n",
              "      --hover-fill-color: #FFFFFF;\n",
              "      --disabled-bg-color: #3B4455;\n",
              "      --disabled-fill-color: #666;\n",
              "  }\n",
              "\n",
              "  .colab-df-quickchart {\n",
              "    background-color: var(--bg-color);\n",
              "    border: none;\n",
              "    border-radius: 50%;\n",
              "    cursor: pointer;\n",
              "    display: none;\n",
              "    fill: var(--fill-color);\n",
              "    height: 32px;\n",
              "    padding: 0;\n",
              "    width: 32px;\n",
              "  }\n",
              "\n",
              "  .colab-df-quickchart:hover {\n",
              "    background-color: var(--hover-bg-color);\n",
              "    box-shadow: 0 1px 2px rgba(60, 64, 67, 0.3), 0 1px 3px 1px rgba(60, 64, 67, 0.15);\n",
              "    fill: var(--button-hover-fill-color);\n",
              "  }\n",
              "\n",
              "  .colab-df-quickchart-complete:disabled,\n",
              "  .colab-df-quickchart-complete:disabled:hover {\n",
              "    background-color: var(--disabled-bg-color);\n",
              "    fill: var(--disabled-fill-color);\n",
              "    box-shadow: none;\n",
              "  }\n",
              "\n",
              "  .colab-df-spinner {\n",
              "    border: 2px solid var(--fill-color);\n",
              "    border-color: transparent;\n",
              "    border-bottom-color: var(--fill-color);\n",
              "    animation:\n",
              "      spin 1s steps(1) infinite;\n",
              "  }\n",
              "\n",
              "  @keyframes spin {\n",
              "    0% {\n",
              "      border-color: transparent;\n",
              "      border-bottom-color: var(--fill-color);\n",
              "      border-left-color: var(--fill-color);\n",
              "    }\n",
              "    20% {\n",
              "      border-color: transparent;\n",
              "      border-left-color: var(--fill-color);\n",
              "      border-top-color: var(--fill-color);\n",
              "    }\n",
              "    30% {\n",
              "      border-color: transparent;\n",
              "      border-left-color: var(--fill-color);\n",
              "      border-top-color: var(--fill-color);\n",
              "      border-right-color: var(--fill-color);\n",
              "    }\n",
              "    40% {\n",
              "      border-color: transparent;\n",
              "      border-right-color: var(--fill-color);\n",
              "      border-top-color: var(--fill-color);\n",
              "    }\n",
              "    60% {\n",
              "      border-color: transparent;\n",
              "      border-right-color: var(--fill-color);\n",
              "    }\n",
              "    80% {\n",
              "      border-color: transparent;\n",
              "      border-right-color: var(--fill-color);\n",
              "      border-bottom-color: var(--fill-color);\n",
              "    }\n",
              "    90% {\n",
              "      border-color: transparent;\n",
              "      border-bottom-color: var(--fill-color);\n",
              "    }\n",
              "  }\n",
              "</style>\n",
              "\n",
              "  <script>\n",
              "    async function quickchart(key) {\n",
              "      const quickchartButtonEl =\n",
              "        document.querySelector('#' + key + ' button');\n",
              "      quickchartButtonEl.disabled = true;  // To prevent multiple clicks.\n",
              "      quickchartButtonEl.classList.add('colab-df-spinner');\n",
              "      try {\n",
              "        const charts = await google.colab.kernel.invokeFunction(\n",
              "            'suggestCharts', [key], {});\n",
              "      } catch (error) {\n",
              "        console.error('Error during call to suggestCharts:', error);\n",
              "      }\n",
              "      quickchartButtonEl.classList.remove('colab-df-spinner');\n",
              "      quickchartButtonEl.classList.add('colab-df-quickchart-complete');\n",
              "    }\n",
              "    (() => {\n",
              "      let quickchartButtonEl =\n",
              "        document.querySelector('#df-3738275b-ed70-45f8-a96e-a3ae0422b821 button');\n",
              "      quickchartButtonEl.style.display =\n",
              "        google.colab.kernel.accessAllowed ? 'block' : 'none';\n",
              "    })();\n",
              "  </script>\n",
              "</div>\n",
              "    </div>\n",
              "  </div>\n"
            ],
            "application/vnd.google.colaboratory.intrinsic+json": {
              "type": "dataframe",
              "repr_error": "0"
            }
          },
          "metadata": {},
          "execution_count": 32
        }
      ]
    },
    {
      "cell_type": "markdown",
      "source": [
        "We have 2 choices here:\n",
        "* We can quickly and easily remove these rows.\n",
        "* Or, alternatively, the products names here are quite descriptive, so I'm tempted to just copy them to the description column, so that there is a description if we later want to utilise this column. I wouldn't recommend this if this DataFrame was the source of truth for our website. But this is not the case here, and we're not faking any information (guessing a price or so), so I'm happy with this option"
      ],
      "metadata": {
        "id": "PlFfSOI5_zTB"
      }
    },
    {
      "cell_type": "code",
      "source": [
        "products_df.loc[products_df['desc'].isna(), 'desc'] = products_df.loc[products_df['desc'].isna(), 'name']"
      ],
      "metadata": {
        "id": "Tu_ZH5e0PZ4W"
      },
      "execution_count": null,
      "outputs": []
    },
    {
      "cell_type": "code",
      "source": [
        "products_df.loc[products_df['desc'].isna(), :]"
      ],
      "metadata": {
        "colab": {
          "base_uri": "https://localhost:8080/",
          "height": 53
        },
        "id": "sGYPGy8xzW0v",
        "outputId": "8dd337ed-7843-4ccf-e272-4e285836784f"
      },
      "execution_count": null,
      "outputs": [
        {
          "output_type": "execute_result",
          "data": {
            "text/plain": [
              "Empty DataFrame\n",
              "Columns: [sku, name, desc, price, promo_price, in_stock, type]\n",
              "Index: []"
            ],
            "text/html": [
              "\n",
              "  <div id=\"df-c230a30c-e9b6-4c5e-b8b2-270499800480\" class=\"colab-df-container\">\n",
              "    <div>\n",
              "<style scoped>\n",
              "    .dataframe tbody tr th:only-of-type {\n",
              "        vertical-align: middle;\n",
              "    }\n",
              "\n",
              "    .dataframe tbody tr th {\n",
              "        vertical-align: top;\n",
              "    }\n",
              "\n",
              "    .dataframe thead th {\n",
              "        text-align: right;\n",
              "    }\n",
              "</style>\n",
              "<table border=\"1\" class=\"dataframe\">\n",
              "  <thead>\n",
              "    <tr style=\"text-align: right;\">\n",
              "      <th></th>\n",
              "      <th>sku</th>\n",
              "      <th>name</th>\n",
              "      <th>desc</th>\n",
              "      <th>price</th>\n",
              "      <th>promo_price</th>\n",
              "      <th>in_stock</th>\n",
              "      <th>type</th>\n",
              "    </tr>\n",
              "  </thead>\n",
              "  <tbody>\n",
              "  </tbody>\n",
              "</table>\n",
              "</div>\n",
              "    <div class=\"colab-df-buttons\">\n",
              "\n",
              "  <div class=\"colab-df-container\">\n",
              "    <button class=\"colab-df-convert\" onclick=\"convertToInteractive('df-c230a30c-e9b6-4c5e-b8b2-270499800480')\"\n",
              "            title=\"Convert this dataframe to an interactive table.\"\n",
              "            style=\"display:none;\">\n",
              "\n",
              "  <svg xmlns=\"http://www.w3.org/2000/svg\" height=\"24px\" viewBox=\"0 -960 960 960\">\n",
              "    <path d=\"M120-120v-720h720v720H120Zm60-500h600v-160H180v160Zm220 220h160v-160H400v160Zm0 220h160v-160H400v160ZM180-400h160v-160H180v160Zm440 0h160v-160H620v160ZM180-180h160v-160H180v160Zm440 0h160v-160H620v160Z\"/>\n",
              "  </svg>\n",
              "    </button>\n",
              "\n",
              "  <style>\n",
              "    .colab-df-container {\n",
              "      display:flex;\n",
              "      gap: 12px;\n",
              "    }\n",
              "\n",
              "    .colab-df-convert {\n",
              "      background-color: #E8F0FE;\n",
              "      border: none;\n",
              "      border-radius: 50%;\n",
              "      cursor: pointer;\n",
              "      display: none;\n",
              "      fill: #1967D2;\n",
              "      height: 32px;\n",
              "      padding: 0 0 0 0;\n",
              "      width: 32px;\n",
              "    }\n",
              "\n",
              "    .colab-df-convert:hover {\n",
              "      background-color: #E2EBFA;\n",
              "      box-shadow: 0px 1px 2px rgba(60, 64, 67, 0.3), 0px 1px 3px 1px rgba(60, 64, 67, 0.15);\n",
              "      fill: #174EA6;\n",
              "    }\n",
              "\n",
              "    .colab-df-buttons div {\n",
              "      margin-bottom: 4px;\n",
              "    }\n",
              "\n",
              "    [theme=dark] .colab-df-convert {\n",
              "      background-color: #3B4455;\n",
              "      fill: #D2E3FC;\n",
              "    }\n",
              "\n",
              "    [theme=dark] .colab-df-convert:hover {\n",
              "      background-color: #434B5C;\n",
              "      box-shadow: 0px 1px 3px 1px rgba(0, 0, 0, 0.15);\n",
              "      filter: drop-shadow(0px 1px 2px rgba(0, 0, 0, 0.3));\n",
              "      fill: #FFFFFF;\n",
              "    }\n",
              "  </style>\n",
              "\n",
              "    <script>\n",
              "      const buttonEl =\n",
              "        document.querySelector('#df-c230a30c-e9b6-4c5e-b8b2-270499800480 button.colab-df-convert');\n",
              "      buttonEl.style.display =\n",
              "        google.colab.kernel.accessAllowed ? 'block' : 'none';\n",
              "\n",
              "      async function convertToInteractive(key) {\n",
              "        const element = document.querySelector('#df-c230a30c-e9b6-4c5e-b8b2-270499800480');\n",
              "        const dataTable =\n",
              "          await google.colab.kernel.invokeFunction('convertToInteractive',\n",
              "                                                    [key], {});\n",
              "        if (!dataTable) return;\n",
              "\n",
              "        const docLinkHtml = 'Like what you see? Visit the ' +\n",
              "          '<a target=\"_blank\" href=https://colab.research.google.com/notebooks/data_table.ipynb>data table notebook</a>'\n",
              "          + ' to learn more about interactive tables.';\n",
              "        element.innerHTML = '';\n",
              "        dataTable['output_type'] = 'display_data';\n",
              "        await google.colab.output.renderOutput(dataTable, element);\n",
              "        const docLink = document.createElement('div');\n",
              "        docLink.innerHTML = docLinkHtml;\n",
              "        element.appendChild(docLink);\n",
              "      }\n",
              "    </script>\n",
              "  </div>\n",
              "\n",
              "    </div>\n",
              "  </div>\n"
            ],
            "application/vnd.google.colaboratory.intrinsic+json": {
              "type": "dataframe",
              "repr_error": "Out of range float values are not JSON compliant: nan"
            }
          },
          "metadata": {},
          "execution_count": 34
        }
      ]
    },
    {
      "cell_type": "code",
      "source": [
        "products_df.loc[[16126],:]"
      ],
      "metadata": {
        "colab": {
          "base_uri": "https://localhost:8080/",
          "height": 81
        },
        "id": "sKbFzVk_fgtN",
        "outputId": "423b0b7e-39a9-4585-c518-aa084f6da332"
      },
      "execution_count": null,
      "outputs": [
        {
          "output_type": "execute_result",
          "data": {
            "text/plain": [
              "             sku                                                         name  \\\n",
              "16126  WDT0211-A  Open - Purple 2TB WD 35 \"PC Security Mac hard drive and NAS   \n",
              "\n",
              "                                                              desc price  \\\n",
              "16126  Open - Purple 2TB WD 35 \"PC Security Mac hard drive and NAS   107   \n",
              "\n",
              "      promo_price  in_stock  type  \n",
              "16126     814.659         0  1298  "
            ],
            "text/html": [
              "\n",
              "  <div id=\"df-2f88e3af-b8f0-4479-9e96-0fe4f2c41946\" class=\"colab-df-container\">\n",
              "    <div>\n",
              "<style scoped>\n",
              "    .dataframe tbody tr th:only-of-type {\n",
              "        vertical-align: middle;\n",
              "    }\n",
              "\n",
              "    .dataframe tbody tr th {\n",
              "        vertical-align: top;\n",
              "    }\n",
              "\n",
              "    .dataframe thead th {\n",
              "        text-align: right;\n",
              "    }\n",
              "</style>\n",
              "<table border=\"1\" class=\"dataframe\">\n",
              "  <thead>\n",
              "    <tr style=\"text-align: right;\">\n",
              "      <th></th>\n",
              "      <th>sku</th>\n",
              "      <th>name</th>\n",
              "      <th>desc</th>\n",
              "      <th>price</th>\n",
              "      <th>promo_price</th>\n",
              "      <th>in_stock</th>\n",
              "      <th>type</th>\n",
              "    </tr>\n",
              "  </thead>\n",
              "  <tbody>\n",
              "    <tr>\n",
              "      <th>16126</th>\n",
              "      <td>WDT0211-A</td>\n",
              "      <td>Open - Purple 2TB WD 35 \"PC Security Mac hard drive and NAS</td>\n",
              "      <td>Open - Purple 2TB WD 35 \"PC Security Mac hard drive and NAS</td>\n",
              "      <td>107</td>\n",
              "      <td>814.659</td>\n",
              "      <td>0</td>\n",
              "      <td>1298</td>\n",
              "    </tr>\n",
              "  </tbody>\n",
              "</table>\n",
              "</div>\n",
              "    <div class=\"colab-df-buttons\">\n",
              "\n",
              "  <div class=\"colab-df-container\">\n",
              "    <button class=\"colab-df-convert\" onclick=\"convertToInteractive('df-2f88e3af-b8f0-4479-9e96-0fe4f2c41946')\"\n",
              "            title=\"Convert this dataframe to an interactive table.\"\n",
              "            style=\"display:none;\">\n",
              "\n",
              "  <svg xmlns=\"http://www.w3.org/2000/svg\" height=\"24px\" viewBox=\"0 -960 960 960\">\n",
              "    <path d=\"M120-120v-720h720v720H120Zm60-500h600v-160H180v160Zm220 220h160v-160H400v160Zm0 220h160v-160H400v160ZM180-400h160v-160H180v160Zm440 0h160v-160H620v160ZM180-180h160v-160H180v160Zm440 0h160v-160H620v160Z\"/>\n",
              "  </svg>\n",
              "    </button>\n",
              "\n",
              "  <style>\n",
              "    .colab-df-container {\n",
              "      display:flex;\n",
              "      gap: 12px;\n",
              "    }\n",
              "\n",
              "    .colab-df-convert {\n",
              "      background-color: #E8F0FE;\n",
              "      border: none;\n",
              "      border-radius: 50%;\n",
              "      cursor: pointer;\n",
              "      display: none;\n",
              "      fill: #1967D2;\n",
              "      height: 32px;\n",
              "      padding: 0 0 0 0;\n",
              "      width: 32px;\n",
              "    }\n",
              "\n",
              "    .colab-df-convert:hover {\n",
              "      background-color: #E2EBFA;\n",
              "      box-shadow: 0px 1px 2px rgba(60, 64, 67, 0.3), 0px 1px 3px 1px rgba(60, 64, 67, 0.15);\n",
              "      fill: #174EA6;\n",
              "    }\n",
              "\n",
              "    .colab-df-buttons div {\n",
              "      margin-bottom: 4px;\n",
              "    }\n",
              "\n",
              "    [theme=dark] .colab-df-convert {\n",
              "      background-color: #3B4455;\n",
              "      fill: #D2E3FC;\n",
              "    }\n",
              "\n",
              "    [theme=dark] .colab-df-convert:hover {\n",
              "      background-color: #434B5C;\n",
              "      box-shadow: 0px 1px 3px 1px rgba(0, 0, 0, 0.15);\n",
              "      filter: drop-shadow(0px 1px 2px rgba(0, 0, 0, 0.3));\n",
              "      fill: #FFFFFF;\n",
              "    }\n",
              "  </style>\n",
              "\n",
              "    <script>\n",
              "      const buttonEl =\n",
              "        document.querySelector('#df-2f88e3af-b8f0-4479-9e96-0fe4f2c41946 button.colab-df-convert');\n",
              "      buttonEl.style.display =\n",
              "        google.colab.kernel.accessAllowed ? 'block' : 'none';\n",
              "\n",
              "      async function convertToInteractive(key) {\n",
              "        const element = document.querySelector('#df-2f88e3af-b8f0-4479-9e96-0fe4f2c41946');\n",
              "        const dataTable =\n",
              "          await google.colab.kernel.invokeFunction('convertToInteractive',\n",
              "                                                    [key], {});\n",
              "        if (!dataTable) return;\n",
              "\n",
              "        const docLinkHtml = 'Like what you see? Visit the ' +\n",
              "          '<a target=\"_blank\" href=https://colab.research.google.com/notebooks/data_table.ipynb>data table notebook</a>'\n",
              "          + ' to learn more about interactive tables.';\n",
              "        element.innerHTML = '';\n",
              "        dataTable['output_type'] = 'display_data';\n",
              "        await google.colab.output.renderOutput(dataTable, element);\n",
              "        const docLink = document.createElement('div');\n",
              "        docLink.innerHTML = docLinkHtml;\n",
              "        element.appendChild(docLink);\n",
              "      }\n",
              "    </script>\n",
              "  </div>\n",
              "\n",
              "    </div>\n",
              "  </div>\n"
            ],
            "application/vnd.google.colaboratory.intrinsic+json": {
              "type": "dataframe",
              "summary": "{\n  \"name\": \"products_df\",\n  \"rows\": 1,\n  \"fields\": [\n    {\n      \"column\": \"sku\",\n      \"properties\": {\n        \"dtype\": \"string\",\n        \"num_unique_values\": 1,\n        \"samples\": [\n          \"WDT0211-A\"\n        ],\n        \"semantic_type\": \"\",\n        \"description\": \"\"\n      }\n    },\n    {\n      \"column\": \"name\",\n      \"properties\": {\n        \"dtype\": \"string\",\n        \"num_unique_values\": 1,\n        \"samples\": [\n          \"Open - Purple 2TB WD 35 \\\"PC Security Mac hard drive and NAS\"\n        ],\n        \"semantic_type\": \"\",\n        \"description\": \"\"\n      }\n    },\n    {\n      \"column\": \"desc\",\n      \"properties\": {\n        \"dtype\": \"string\",\n        \"num_unique_values\": 1,\n        \"samples\": [\n          \"Open - Purple 2TB WD 35 \\\"PC Security Mac hard drive and NAS\"\n        ],\n        \"semantic_type\": \"\",\n        \"description\": \"\"\n      }\n    },\n    {\n      \"column\": \"price\",\n      \"properties\": {\n        \"dtype\": \"string\",\n        \"num_unique_values\": 1,\n        \"samples\": [\n          \"107\"\n        ],\n        \"semantic_type\": \"\",\n        \"description\": \"\"\n      }\n    },\n    {\n      \"column\": \"promo_price\",\n      \"properties\": {\n        \"dtype\": \"string\",\n        \"num_unique_values\": 1,\n        \"samples\": [\n          \"814.659\"\n        ],\n        \"semantic_type\": \"\",\n        \"description\": \"\"\n      }\n    },\n    {\n      \"column\": \"in_stock\",\n      \"properties\": {\n        \"dtype\": \"number\",\n        \"std\": null,\n        \"min\": 0,\n        \"max\": 0,\n        \"num_unique_values\": 1,\n        \"samples\": [\n          0\n        ],\n        \"semantic_type\": \"\",\n        \"description\": \"\"\n      }\n    },\n    {\n      \"column\": \"type\",\n      \"properties\": {\n        \"dtype\": \"string\",\n        \"num_unique_values\": 1,\n        \"samples\": [\n          \"1298\"\n        ],\n        \"semantic_type\": \"\",\n        \"description\": \"\"\n      }\n    }\n  ]\n}"
            }
          },
          "metadata": {},
          "execution_count": 35
        }
      ]
    },
    {
      "cell_type": "code",
      "source": [
        "products_df.info()"
      ],
      "metadata": {
        "colab": {
          "base_uri": "https://localhost:8080/"
        },
        "id": "iCkrqbC6dXsm",
        "outputId": "4be8712b-9306-419f-b780-9a9fe6103858"
      },
      "execution_count": null,
      "outputs": [
        {
          "output_type": "stream",
          "name": "stdout",
          "text": [
            "<class 'pandas.core.frame.DataFrame'>\n",
            "Index: 10580 entries, 0 to 19325\n",
            "Data columns (total 7 columns):\n",
            " #   Column       Non-Null Count  Dtype \n",
            "---  ------       --------------  ----- \n",
            " 0   sku          10580 non-null  object\n",
            " 1   name         10580 non-null  object\n",
            " 2   desc         10580 non-null  object\n",
            " 3   price        10534 non-null  object\n",
            " 4   promo_price  10580 non-null  object\n",
            " 5   in_stock     10580 non-null  int64 \n",
            " 6   type         10530 non-null  object\n",
            "dtypes: int64(1), object(6)\n",
            "memory usage: 919.3+ KB\n"
          ]
        }
      ]
    },
    {
      "cell_type": "markdown",
      "source": [
        "Did you also notice above that we have the dreaded two decimal point problem in both the `price` and `promo_price` columns? We can also see prices with 3 decimal places, prices should have 2 decimal places: this gives us more cause for concern"
      ],
      "metadata": {
        "id": "yb37eyvIBuep"
      }
    },
    {
      "cell_type": "markdown",
      "source": [
        "#### `price`"
      ],
      "metadata": {
        "id": "DX9u7jeE_c95"
      }
    },
    {
      "cell_type": "code",
      "source": [
        "products_df.price.isna().sum()"
      ],
      "metadata": {
        "id": "AzID-a2TS6y_",
        "colab": {
          "base_uri": "https://localhost:8080/"
        },
        "outputId": "e87c2b4d-538b-467f-edde-7e63a72b740b"
      },
      "execution_count": null,
      "outputs": [
        {
          "output_type": "execute_result",
          "data": {
            "text/plain": [
              "46"
            ]
          },
          "metadata": {},
          "execution_count": 37
        }
      ]
    },
    {
      "cell_type": "code",
      "source": [
        "print(f\"The missing values in price are {(products_df.price.isna().value_counts(normalize=True)[1] * 100).round(2)}% of all rows in the DataFrame\")"
      ],
      "metadata": {
        "id": "LRknumaMk9gn",
        "colab": {
          "base_uri": "https://localhost:8080/"
        },
        "outputId": "6c404291-bd69-49a6-a3d1-3375078a665d"
      },
      "execution_count": null,
      "outputs": [
        {
          "output_type": "stream",
          "name": "stdout",
          "text": [
            "The missing values in price are 0.43% of all rows in the DataFrame\n"
          ]
        }
      ]
    },
    {
      "cell_type": "code",
      "source": [
        "products_df.price.isna().value_counts(normalize=True)[1]"
      ],
      "metadata": {
        "colab": {
          "base_uri": "https://localhost:8080/"
        },
        "id": "iy8UoHFVlFHB",
        "outputId": "ef8c8b58-3a66-419b-859d-5d8ba1591ba3"
      },
      "execution_count": null,
      "outputs": [
        {
          "output_type": "execute_result",
          "data": {
            "text/plain": [
              "0.004347826086956522"
            ]
          },
          "metadata": {},
          "execution_count": 39
        }
      ]
    },
    {
      "cell_type": "markdown",
      "source": [
        "Let's simply delete these rows to ensure that we can trust the numbers in our final DataFrame. Afterall, the price is very important when investigating discounts."
      ],
      "metadata": {
        "id": "WVAC9q6Zldyu"
      }
    },
    {
      "cell_type": "markdown",
      "source": [
        "Option 1: `.loc`"
      ],
      "metadata": {
        "id": "W7Bv1QXrTVbR"
      }
    },
    {
      "cell_type": "code",
      "source": [
        "products_df = products_df.loc[~products_df['price'].isna()]"
      ],
      "metadata": {
        "id": "aJIuqC1LQL8u"
      },
      "execution_count": null,
      "outputs": []
    },
    {
      "cell_type": "markdown",
      "source": [
        "Option 2: `.dropna()`"
      ],
      "metadata": {
        "id": "5iShhiyRTcCz"
      }
    },
    {
      "cell_type": "code",
      "source": [
        "# products_df = products_df.dropna(subset=['price'])"
      ],
      "metadata": {
        "id": "2_S5lPV3QcnR"
      },
      "execution_count": null,
      "outputs": []
    },
    {
      "cell_type": "code",
      "source": [
        "products_df.info()"
      ],
      "metadata": {
        "colab": {
          "base_uri": "https://localhost:8080/"
        },
        "id": "L7L6bhvjdmmY",
        "outputId": "a8d86b61-21af-437b-98d9-5efe9b1811bf"
      },
      "execution_count": null,
      "outputs": [
        {
          "output_type": "stream",
          "name": "stdout",
          "text": [
            "<class 'pandas.core.frame.DataFrame'>\n",
            "Index: 10534 entries, 0 to 19325\n",
            "Data columns (total 7 columns):\n",
            " #   Column       Non-Null Count  Dtype \n",
            "---  ------       --------------  ----- \n",
            " 0   sku          10534 non-null  object\n",
            " 1   name         10534 non-null  object\n",
            " 2   desc         10534 non-null  object\n",
            " 3   price        10534 non-null  object\n",
            " 4   promo_price  10534 non-null  object\n",
            " 5   in_stock     10534 non-null  int64 \n",
            " 6   type         10484 non-null  object\n",
            "dtypes: int64(1), object(6)\n",
            "memory usage: 658.4+ KB\n"
          ]
        }
      ]
    },
    {
      "cell_type": "markdown",
      "source": [
        "### Data types\n",
        "\n",
        "We saw from looking at the output of `.info()` that both `price` and `promo_price` have been stored as objects and not as a numerical datatypes. We also saw while solving other problems that both columns have some prices with 3 decimal places and others with 2 decimal points - the latter will prevent us from converting the datatype to numerical, so first we must investigate and solve these problems."
      ],
      "metadata": {
        "id": "4x6xeGDu_B0N"
      }
    },
    {
      "cell_type": "markdown",
      "source": [
        "#### `price`"
      ],
      "metadata": {
        "id": "u0CsTv1WnMie"
      }
    },
    {
      "cell_type": "markdown",
      "source": [
        "First, let's see how many values are affected by the 2-decimal-dot problems or 3 decimal places."
      ],
      "metadata": {
        "id": "2mIc7YWdva5I"
      }
    },
    {
      "cell_type": "code",
      "source": [
        "price_problems_number = products_df.loc[(products_df.price.astype(str).str.contains(\"\\d+\\.\\d+\\.\\d+\"))|(products_df.price.astype(str).str.contains(\"\\d+\\.\\d{3,}\")), :].shape[0]\n",
        "price_problems_number"
      ],
      "metadata": {
        "id": "bShFL27Nq3Da",
        "colab": {
          "base_uri": "https://localhost:8080/"
        },
        "outputId": "0df8c8cb-adf6-44a7-8122-fb8d1ef976b4"
      },
      "execution_count": null,
      "outputs": [
        {
          "output_type": "execute_result",
          "data": {
            "text/plain": [
              "542"
            ]
          },
          "metadata": {},
          "execution_count": 43
        }
      ]
    },
    {
      "cell_type": "code",
      "source": [
        "print(f\"The column price has in total {price_problems_number} wrong values. This is {round(((price_problems_number / products_df.shape[0]) * 100), 2)}% of the rows of the DataFrame\")"
      ],
      "metadata": {
        "id": "R-HG2ur6eOiP",
        "colab": {
          "base_uri": "https://localhost:8080/"
        },
        "outputId": "24e15be0-61f2-4641-92a8-6fdc2723796f"
      },
      "execution_count": null,
      "outputs": [
        {
          "output_type": "stream",
          "name": "stdout",
          "text": [
            "The column price has in total 542 wrong values. This is 5.15% of the rows of the DataFrame\n"
          ]
        }
      ]
    },
    {
      "cell_type": "markdown",
      "source": [
        "5.15% is a reasonable amount of our data. However, the price column will be important to understanding discounts, so I'd like it to be very trustworthy as we are basing business decisions on it. Therefore, we'll delete these rows"
      ],
      "metadata": {
        "id": "p9QV50j3orpP"
      }
    },
    {
      "cell_type": "code",
      "source": [
        "products_df = products_df.loc[(~products_df.price.astype(str).str.contains(\"\\d+\\.\\d+\\.\\d+\"))&(~products_df.price.astype(str).str.contains(\"\\d+\\.\\d{3,}\")), :]"
      ],
      "metadata": {
        "id": "3xkK12Mspand"
      },
      "execution_count": null,
      "outputs": []
    },
    {
      "cell_type": "code",
      "source": [
        "products_df"
      ],
      "metadata": {
        "id": "h8R_vq6-VZ1X",
        "colab": {
          "base_uri": "https://localhost:8080/",
          "height": 424
        },
        "outputId": "fcb790e3-8f61-4d81-d50d-aad4f8d8a696"
      },
      "execution_count": null,
      "outputs": [
        {
          "output_type": "execute_result",
          "data": {
            "text/plain": [
              "           sku                                           name  \\\n",
              "0      RAI0007              Silver Rain Design mStand Support   \n",
              "1      APP0023              Apple Mac Keyboard Keypad Spanish   \n",
              "2      APP0025               Mighty Mouse Apple Mouse for Mac   \n",
              "3      APP0072  Apple Dock to USB Cable iPhone and iPod white   \n",
              "4      KIN0007    Mac Memory Kingston 2GB 667MHz DDR2 SO-DIMM   \n",
              "...        ...                                            ...   \n",
              "19321  BEL0376        Belkin Travel Support Apple Watch Black   \n",
              "19322  THU0060   Enroute Thule 14L Backpack MacBook 13 \"Black   \n",
              "19323  THU0061    Enroute Thule 14L Backpack MacBook 13 \"Blue   \n",
              "19324  THU0062     Enroute Thule 14L Backpack MacBook 13 \"Red   \n",
              "19325  THU0063   Enroute Thule 14L Backpack MacBook 13 \"Green   \n",
              "\n",
              "                                                                                                desc  \\\n",
              "0                                                       Aluminum support compatible with all MacBook   \n",
              "1                                                          USB ultrathin keyboard Apple Mac Spanish.   \n",
              "2                                                                             mouse Apple USB cable.   \n",
              "3                                                              IPhone dock and USB Cable Apple iPod.   \n",
              "4                                      2GB RAM Mac mini and iMac (2006/07) MacBook Pro (2006/07/08).   \n",
              "...                                                                                              ...   \n",
              "19321                          compact and portable stand vertically or horizontally for Apple Watch   \n",
              "19322  Backpack with capacity of 14 liter compartments MacBook up to 13 inches up to 10 inches Cases   \n",
              "19323  Backpack with capacity of 14 liter compartments MacBook up to 13 inches up to 10 inches Cases   \n",
              "19324  Backpack with capacity of 14 liter compartments MacBook up to 13 inches up to 10 inches Cases   \n",
              "19325  Backpack with capacity of 14 liter compartments MacBook up to 13 inches up to 10 inches Cases   \n",
              "\n",
              "       price promo_price  in_stock      type  \n",
              "0      59.99     499.899         1      8696  \n",
              "1         59     589.996         0  13855401  \n",
              "2         59     569.898         0      1387  \n",
              "3         25     229.997         0      1230  \n",
              "4      34.99       31.99         1      1364  \n",
              "...      ...         ...       ...       ...  \n",
              "19321  29.99     269.903         1     12282  \n",
              "19322  69.95     649.903         1      1392  \n",
              "19323  69.95     649.903         1      1392  \n",
              "19324  69.95     649.903         0      1392  \n",
              "19325  69.95     649.903         1      1392  \n",
              "\n",
              "[9992 rows x 7 columns]"
            ],
            "text/html": [
              "\n",
              "  <div id=\"df-68351f59-aa93-414b-9162-58896762951b\" class=\"colab-df-container\">\n",
              "    <div>\n",
              "<style scoped>\n",
              "    .dataframe tbody tr th:only-of-type {\n",
              "        vertical-align: middle;\n",
              "    }\n",
              "\n",
              "    .dataframe tbody tr th {\n",
              "        vertical-align: top;\n",
              "    }\n",
              "\n",
              "    .dataframe thead th {\n",
              "        text-align: right;\n",
              "    }\n",
              "</style>\n",
              "<table border=\"1\" class=\"dataframe\">\n",
              "  <thead>\n",
              "    <tr style=\"text-align: right;\">\n",
              "      <th></th>\n",
              "      <th>sku</th>\n",
              "      <th>name</th>\n",
              "      <th>desc</th>\n",
              "      <th>price</th>\n",
              "      <th>promo_price</th>\n",
              "      <th>in_stock</th>\n",
              "      <th>type</th>\n",
              "    </tr>\n",
              "  </thead>\n",
              "  <tbody>\n",
              "    <tr>\n",
              "      <th>0</th>\n",
              "      <td>RAI0007</td>\n",
              "      <td>Silver Rain Design mStand Support</td>\n",
              "      <td>Aluminum support compatible with all MacBook</td>\n",
              "      <td>59.99</td>\n",
              "      <td>499.899</td>\n",
              "      <td>1</td>\n",
              "      <td>8696</td>\n",
              "    </tr>\n",
              "    <tr>\n",
              "      <th>1</th>\n",
              "      <td>APP0023</td>\n",
              "      <td>Apple Mac Keyboard Keypad Spanish</td>\n",
              "      <td>USB ultrathin keyboard Apple Mac Spanish.</td>\n",
              "      <td>59</td>\n",
              "      <td>589.996</td>\n",
              "      <td>0</td>\n",
              "      <td>13855401</td>\n",
              "    </tr>\n",
              "    <tr>\n",
              "      <th>2</th>\n",
              "      <td>APP0025</td>\n",
              "      <td>Mighty Mouse Apple Mouse for Mac</td>\n",
              "      <td>mouse Apple USB cable.</td>\n",
              "      <td>59</td>\n",
              "      <td>569.898</td>\n",
              "      <td>0</td>\n",
              "      <td>1387</td>\n",
              "    </tr>\n",
              "    <tr>\n",
              "      <th>3</th>\n",
              "      <td>APP0072</td>\n",
              "      <td>Apple Dock to USB Cable iPhone and iPod white</td>\n",
              "      <td>IPhone dock and USB Cable Apple iPod.</td>\n",
              "      <td>25</td>\n",
              "      <td>229.997</td>\n",
              "      <td>0</td>\n",
              "      <td>1230</td>\n",
              "    </tr>\n",
              "    <tr>\n",
              "      <th>4</th>\n",
              "      <td>KIN0007</td>\n",
              "      <td>Mac Memory Kingston 2GB 667MHz DDR2 SO-DIMM</td>\n",
              "      <td>2GB RAM Mac mini and iMac (2006/07) MacBook Pro (2006/07/08).</td>\n",
              "      <td>34.99</td>\n",
              "      <td>31.99</td>\n",
              "      <td>1</td>\n",
              "      <td>1364</td>\n",
              "    </tr>\n",
              "    <tr>\n",
              "      <th>...</th>\n",
              "      <td>...</td>\n",
              "      <td>...</td>\n",
              "      <td>...</td>\n",
              "      <td>...</td>\n",
              "      <td>...</td>\n",
              "      <td>...</td>\n",
              "      <td>...</td>\n",
              "    </tr>\n",
              "    <tr>\n",
              "      <th>19321</th>\n",
              "      <td>BEL0376</td>\n",
              "      <td>Belkin Travel Support Apple Watch Black</td>\n",
              "      <td>compact and portable stand vertically or horizontally for Apple Watch</td>\n",
              "      <td>29.99</td>\n",
              "      <td>269.903</td>\n",
              "      <td>1</td>\n",
              "      <td>12282</td>\n",
              "    </tr>\n",
              "    <tr>\n",
              "      <th>19322</th>\n",
              "      <td>THU0060</td>\n",
              "      <td>Enroute Thule 14L Backpack MacBook 13 \"Black</td>\n",
              "      <td>Backpack with capacity of 14 liter compartments MacBook up to 13 inches up to 10 inches Cases</td>\n",
              "      <td>69.95</td>\n",
              "      <td>649.903</td>\n",
              "      <td>1</td>\n",
              "      <td>1392</td>\n",
              "    </tr>\n",
              "    <tr>\n",
              "      <th>19323</th>\n",
              "      <td>THU0061</td>\n",
              "      <td>Enroute Thule 14L Backpack MacBook 13 \"Blue</td>\n",
              "      <td>Backpack with capacity of 14 liter compartments MacBook up to 13 inches up to 10 inches Cases</td>\n",
              "      <td>69.95</td>\n",
              "      <td>649.903</td>\n",
              "      <td>1</td>\n",
              "      <td>1392</td>\n",
              "    </tr>\n",
              "    <tr>\n",
              "      <th>19324</th>\n",
              "      <td>THU0062</td>\n",
              "      <td>Enroute Thule 14L Backpack MacBook 13 \"Red</td>\n",
              "      <td>Backpack with capacity of 14 liter compartments MacBook up to 13 inches up to 10 inches Cases</td>\n",
              "      <td>69.95</td>\n",
              "      <td>649.903</td>\n",
              "      <td>0</td>\n",
              "      <td>1392</td>\n",
              "    </tr>\n",
              "    <tr>\n",
              "      <th>19325</th>\n",
              "      <td>THU0063</td>\n",
              "      <td>Enroute Thule 14L Backpack MacBook 13 \"Green</td>\n",
              "      <td>Backpack with capacity of 14 liter compartments MacBook up to 13 inches up to 10 inches Cases</td>\n",
              "      <td>69.95</td>\n",
              "      <td>649.903</td>\n",
              "      <td>1</td>\n",
              "      <td>1392</td>\n",
              "    </tr>\n",
              "  </tbody>\n",
              "</table>\n",
              "<p>9992 rows × 7 columns</p>\n",
              "</div>\n",
              "    <div class=\"colab-df-buttons\">\n",
              "\n",
              "  <div class=\"colab-df-container\">\n",
              "    <button class=\"colab-df-convert\" onclick=\"convertToInteractive('df-68351f59-aa93-414b-9162-58896762951b')\"\n",
              "            title=\"Convert this dataframe to an interactive table.\"\n",
              "            style=\"display:none;\">\n",
              "\n",
              "  <svg xmlns=\"http://www.w3.org/2000/svg\" height=\"24px\" viewBox=\"0 -960 960 960\">\n",
              "    <path d=\"M120-120v-720h720v720H120Zm60-500h600v-160H180v160Zm220 220h160v-160H400v160Zm0 220h160v-160H400v160ZM180-400h160v-160H180v160Zm440 0h160v-160H620v160ZM180-180h160v-160H180v160Zm440 0h160v-160H620v160Z\"/>\n",
              "  </svg>\n",
              "    </button>\n",
              "\n",
              "  <style>\n",
              "    .colab-df-container {\n",
              "      display:flex;\n",
              "      gap: 12px;\n",
              "    }\n",
              "\n",
              "    .colab-df-convert {\n",
              "      background-color: #E8F0FE;\n",
              "      border: none;\n",
              "      border-radius: 50%;\n",
              "      cursor: pointer;\n",
              "      display: none;\n",
              "      fill: #1967D2;\n",
              "      height: 32px;\n",
              "      padding: 0 0 0 0;\n",
              "      width: 32px;\n",
              "    }\n",
              "\n",
              "    .colab-df-convert:hover {\n",
              "      background-color: #E2EBFA;\n",
              "      box-shadow: 0px 1px 2px rgba(60, 64, 67, 0.3), 0px 1px 3px 1px rgba(60, 64, 67, 0.15);\n",
              "      fill: #174EA6;\n",
              "    }\n",
              "\n",
              "    .colab-df-buttons div {\n",
              "      margin-bottom: 4px;\n",
              "    }\n",
              "\n",
              "    [theme=dark] .colab-df-convert {\n",
              "      background-color: #3B4455;\n",
              "      fill: #D2E3FC;\n",
              "    }\n",
              "\n",
              "    [theme=dark] .colab-df-convert:hover {\n",
              "      background-color: #434B5C;\n",
              "      box-shadow: 0px 1px 3px 1px rgba(0, 0, 0, 0.15);\n",
              "      filter: drop-shadow(0px 1px 2px rgba(0, 0, 0, 0.3));\n",
              "      fill: #FFFFFF;\n",
              "    }\n",
              "  </style>\n",
              "\n",
              "    <script>\n",
              "      const buttonEl =\n",
              "        document.querySelector('#df-68351f59-aa93-414b-9162-58896762951b button.colab-df-convert');\n",
              "      buttonEl.style.display =\n",
              "        google.colab.kernel.accessAllowed ? 'block' : 'none';\n",
              "\n",
              "      async function convertToInteractive(key) {\n",
              "        const element = document.querySelector('#df-68351f59-aa93-414b-9162-58896762951b');\n",
              "        const dataTable =\n",
              "          await google.colab.kernel.invokeFunction('convertToInteractive',\n",
              "                                                    [key], {});\n",
              "        if (!dataTable) return;\n",
              "\n",
              "        const docLinkHtml = 'Like what you see? Visit the ' +\n",
              "          '<a target=\"_blank\" href=https://colab.research.google.com/notebooks/data_table.ipynb>data table notebook</a>'\n",
              "          + ' to learn more about interactive tables.';\n",
              "        element.innerHTML = '';\n",
              "        dataTable['output_type'] = 'display_data';\n",
              "        await google.colab.output.renderOutput(dataTable, element);\n",
              "        const docLink = document.createElement('div');\n",
              "        docLink.innerHTML = docLinkHtml;\n",
              "        element.appendChild(docLink);\n",
              "      }\n",
              "    </script>\n",
              "  </div>\n",
              "\n",
              "\n",
              "<div id=\"df-f28466d7-44ea-4621-8d52-7f2279e5ebe5\">\n",
              "  <button class=\"colab-df-quickchart\" onclick=\"quickchart('df-f28466d7-44ea-4621-8d52-7f2279e5ebe5')\"\n",
              "            title=\"Suggest charts\"\n",
              "            style=\"display:none;\">\n",
              "\n",
              "<svg xmlns=\"http://www.w3.org/2000/svg\" height=\"24px\"viewBox=\"0 0 24 24\"\n",
              "     width=\"24px\">\n",
              "    <g>\n",
              "        <path d=\"M19 3H5c-1.1 0-2 .9-2 2v14c0 1.1.9 2 2 2h14c1.1 0 2-.9 2-2V5c0-1.1-.9-2-2-2zM9 17H7v-7h2v7zm4 0h-2V7h2v10zm4 0h-2v-4h2v4z\"/>\n",
              "    </g>\n",
              "</svg>\n",
              "  </button>\n",
              "\n",
              "<style>\n",
              "  .colab-df-quickchart {\n",
              "      --bg-color: #E8F0FE;\n",
              "      --fill-color: #1967D2;\n",
              "      --hover-bg-color: #E2EBFA;\n",
              "      --hover-fill-color: #174EA6;\n",
              "      --disabled-fill-color: #AAA;\n",
              "      --disabled-bg-color: #DDD;\n",
              "  }\n",
              "\n",
              "  [theme=dark] .colab-df-quickchart {\n",
              "      --bg-color: #3B4455;\n",
              "      --fill-color: #D2E3FC;\n",
              "      --hover-bg-color: #434B5C;\n",
              "      --hover-fill-color: #FFFFFF;\n",
              "      --disabled-bg-color: #3B4455;\n",
              "      --disabled-fill-color: #666;\n",
              "  }\n",
              "\n",
              "  .colab-df-quickchart {\n",
              "    background-color: var(--bg-color);\n",
              "    border: none;\n",
              "    border-radius: 50%;\n",
              "    cursor: pointer;\n",
              "    display: none;\n",
              "    fill: var(--fill-color);\n",
              "    height: 32px;\n",
              "    padding: 0;\n",
              "    width: 32px;\n",
              "  }\n",
              "\n",
              "  .colab-df-quickchart:hover {\n",
              "    background-color: var(--hover-bg-color);\n",
              "    box-shadow: 0 1px 2px rgba(60, 64, 67, 0.3), 0 1px 3px 1px rgba(60, 64, 67, 0.15);\n",
              "    fill: var(--button-hover-fill-color);\n",
              "  }\n",
              "\n",
              "  .colab-df-quickchart-complete:disabled,\n",
              "  .colab-df-quickchart-complete:disabled:hover {\n",
              "    background-color: var(--disabled-bg-color);\n",
              "    fill: var(--disabled-fill-color);\n",
              "    box-shadow: none;\n",
              "  }\n",
              "\n",
              "  .colab-df-spinner {\n",
              "    border: 2px solid var(--fill-color);\n",
              "    border-color: transparent;\n",
              "    border-bottom-color: var(--fill-color);\n",
              "    animation:\n",
              "      spin 1s steps(1) infinite;\n",
              "  }\n",
              "\n",
              "  @keyframes spin {\n",
              "    0% {\n",
              "      border-color: transparent;\n",
              "      border-bottom-color: var(--fill-color);\n",
              "      border-left-color: var(--fill-color);\n",
              "    }\n",
              "    20% {\n",
              "      border-color: transparent;\n",
              "      border-left-color: var(--fill-color);\n",
              "      border-top-color: var(--fill-color);\n",
              "    }\n",
              "    30% {\n",
              "      border-color: transparent;\n",
              "      border-left-color: var(--fill-color);\n",
              "      border-top-color: var(--fill-color);\n",
              "      border-right-color: var(--fill-color);\n",
              "    }\n",
              "    40% {\n",
              "      border-color: transparent;\n",
              "      border-right-color: var(--fill-color);\n",
              "      border-top-color: var(--fill-color);\n",
              "    }\n",
              "    60% {\n",
              "      border-color: transparent;\n",
              "      border-right-color: var(--fill-color);\n",
              "    }\n",
              "    80% {\n",
              "      border-color: transparent;\n",
              "      border-right-color: var(--fill-color);\n",
              "      border-bottom-color: var(--fill-color);\n",
              "    }\n",
              "    90% {\n",
              "      border-color: transparent;\n",
              "      border-bottom-color: var(--fill-color);\n",
              "    }\n",
              "  }\n",
              "</style>\n",
              "\n",
              "  <script>\n",
              "    async function quickchart(key) {\n",
              "      const quickchartButtonEl =\n",
              "        document.querySelector('#' + key + ' button');\n",
              "      quickchartButtonEl.disabled = true;  // To prevent multiple clicks.\n",
              "      quickchartButtonEl.classList.add('colab-df-spinner');\n",
              "      try {\n",
              "        const charts = await google.colab.kernel.invokeFunction(\n",
              "            'suggestCharts', [key], {});\n",
              "      } catch (error) {\n",
              "        console.error('Error during call to suggestCharts:', error);\n",
              "      }\n",
              "      quickchartButtonEl.classList.remove('colab-df-spinner');\n",
              "      quickchartButtonEl.classList.add('colab-df-quickchart-complete');\n",
              "    }\n",
              "    (() => {\n",
              "      let quickchartButtonEl =\n",
              "        document.querySelector('#df-f28466d7-44ea-4621-8d52-7f2279e5ebe5 button');\n",
              "      quickchartButtonEl.style.display =\n",
              "        google.colab.kernel.accessAllowed ? 'block' : 'none';\n",
              "    })();\n",
              "  </script>\n",
              "</div>\n",
              "    </div>\n",
              "  </div>\n"
            ],
            "application/vnd.google.colaboratory.intrinsic+json": {
              "type": "dataframe",
              "variable_name": "products_df",
              "summary": "{\n  \"name\": \"products_df\",\n  \"rows\": 9992,\n  \"fields\": [\n    {\n      \"column\": \"sku\",\n      \"properties\": {\n        \"dtype\": \"string\",\n        \"num_unique_values\": 9992,\n        \"samples\": [\n          \"IHE0020\",\n          \"GRT0375\",\n          \"SYN0078\"\n        ],\n        \"semantic_type\": \"\",\n        \"description\": \"\"\n      }\n    },\n    {\n      \"column\": \"name\",\n      \"properties\": {\n        \"dtype\": \"string\",\n        \"num_unique_values\": 9836,\n        \"samples\": [\n          \"Open - Ninebot Kick Scooter ES1 (56682)\",\n          \"Apple MacBook Pro 15 \\\"Core i7 Touch Bar 27GHz | RAM 16GB | 512GB PCIe SSD | 455 2GB Radeon Pro Space Gray\",\n          \"LifeProof Fre Waterproof Case iPhone 6 / 6S Plus Black\"\n        ],\n        \"semantic_type\": \"\",\n        \"description\": \"\"\n      }\n    },\n    {\n      \"column\": \"desc\",\n      \"properties\": {\n        \"dtype\": \"string\",\n        \"num_unique_values\": 6769,\n        \"samples\": [\n          \"Music player iPod nano 7 Generation 16GB blue.\",\n          \"case with strap handle rear front pocket for MacBook Pro 15 inches / 15 inches Retina\",\n          \"Synology NAS with 12TB capacity (2x6TB) Seagate Iron Wolf for Mac and PC\"\n        ],\n        \"semantic_type\": \"\",\n        \"description\": \"\"\n      }\n    },\n    {\n      \"column\": \"price\",\n      \"properties\": {\n        \"dtype\": \"category\",\n        \"num_unique_values\": 2332,\n        \"samples\": [\n          \"3486.57\",\n          \"831.33\",\n          \"8379\"\n        ],\n        \"semantic_type\": \"\",\n        \"description\": \"\"\n      }\n    },\n    {\n      \"column\": \"promo_price\",\n      \"properties\": {\n        \"dtype\": \"category\",\n        \"num_unique_values\": 4372,\n        \"samples\": [\n          \"1306.99\",\n          \"112.808\",\n          \"9.069.906\"\n        ],\n        \"semantic_type\": \"\",\n        \"description\": \"\"\n      }\n    },\n    {\n      \"column\": \"in_stock\",\n      \"properties\": {\n        \"dtype\": \"number\",\n        \"std\": 0,\n        \"min\": 0,\n        \"max\": 1,\n        \"num_unique_values\": 2,\n        \"samples\": [\n          0,\n          1\n        ],\n        \"semantic_type\": \"\",\n        \"description\": \"\"\n      }\n    },\n    {\n      \"column\": \"type\",\n      \"properties\": {\n        \"dtype\": \"category\",\n        \"num_unique_values\": 125,\n        \"samples\": [\n          \"12635403\",\n          \"13555403\"\n        ],\n        \"semantic_type\": \"\",\n        \"description\": \"\"\n      }\n    }\n  ]\n}"
            }
          },
          "metadata": {},
          "execution_count": 46
        }
      ]
    },
    {
      "cell_type": "markdown",
      "source": [
        "To complete our task, let's convert the column to a numeric datatype"
      ],
      "metadata": {
        "id": "Y_3K0v8wvMP1"
      }
    },
    {
      "cell_type": "code",
      "source": [
        "products_df[\"price\"] = pd.to_numeric(products_df[\"price\"])"
      ],
      "metadata": {
        "id": "3evkDaafvFUq"
      },
      "execution_count": null,
      "outputs": []
    },
    {
      "cell_type": "code",
      "source": [
        "products_df.info()"
      ],
      "metadata": {
        "colab": {
          "base_uri": "https://localhost:8080/"
        },
        "id": "h2BjVDJ31yiB",
        "outputId": "bf7bc111-41d9-4e9b-8a56-9112c5d5be7c"
      },
      "execution_count": null,
      "outputs": [
        {
          "output_type": "stream",
          "name": "stdout",
          "text": [
            "<class 'pandas.core.frame.DataFrame'>\n",
            "Index: 9992 entries, 0 to 19325\n",
            "Data columns (total 7 columns):\n",
            " #   Column       Non-Null Count  Dtype  \n",
            "---  ------       --------------  -----  \n",
            " 0   sku          9992 non-null   object \n",
            " 1   name         9992 non-null   object \n",
            " 2   desc         9992 non-null   object \n",
            " 3   price        9992 non-null   float64\n",
            " 4   promo_price  9992 non-null   object \n",
            " 5   in_stock     9992 non-null   int64  \n",
            " 6   type         9946 non-null   object \n",
            "dtypes: float64(1), int64(1), object(5)\n",
            "memory usage: 624.5+ KB\n"
          ]
        }
      ]
    },
    {
      "cell_type": "markdown",
      "source": [
        "#### `promo_price`"
      ],
      "metadata": {
        "id": "9GcbI2upeG3M"
      }
    },
    {
      "cell_type": "markdown",
      "source": [
        "Again, let's begin by seeing how many values are affected by the 2-decimal-dots problem, or the 3 decimal-places problem"
      ],
      "metadata": {
        "id": "NQq3M2zGvzS5"
      }
    },
    {
      "cell_type": "code",
      "source": [
        "promo_problems_number = products_df.loc[(products_df.promo_price.astype(str).str.contains(\"\\d+\\.\\d+\\.\\d+\"))|(products_df.promo_price.astype(str).str.contains(\"\\d+\\.\\d{3,}\")), :].shape[0]\n",
        "promo_problems_number"
      ],
      "metadata": {
        "id": "vI4ueHibtK1P",
        "colab": {
          "base_uri": "https://localhost:8080/"
        },
        "outputId": "d373756e-f06d-420d-fed1-4e1d0765b441"
      },
      "execution_count": null,
      "outputs": [
        {
          "output_type": "execute_result",
          "data": {
            "text/plain": [
              "9232"
            ]
          },
          "metadata": {},
          "execution_count": 49
        }
      ]
    },
    {
      "cell_type": "code",
      "source": [
        "print(f\"The column promo_price has in total {promo_problems_number} wrong values. This is {round(((promo_problems_number / products_df.shape[0]) * 100), 2)}% of the rows of the DataFrame\")"
      ],
      "metadata": {
        "id": "Jxpd8nVptKxs",
        "colab": {
          "base_uri": "https://localhost:8080/"
        },
        "outputId": "461b693d-e603-4183-a8eb-fa9644e752cc"
      },
      "execution_count": null,
      "outputs": [
        {
          "output_type": "stream",
          "name": "stdout",
          "text": [
            "The column promo_price has in total 9232 wrong values. This is 92.39% of the rows of the DataFrame\n"
          ]
        }
      ]
    },
    {
      "cell_type": "markdown",
      "source": [
        "WOW!!! That's a lot of wrong data. Let's have a quick investigate to check that's correct. We'll make a DataFrame by copy-pasting the code we used above and then look at a large sample to check that all the numbers in the `promo_price` column really have either 2 decimal points or 3 decimal places."
      ],
      "metadata": {
        "id": "dnEM5lBruU0U"
      }
    },
    {
      "cell_type": "code",
      "source": [
        "promo_price_df = products_df.loc[(products_df.promo_price.astype(str).str.contains(\"\\d+\\.\\d+\\.\\d+\"))|(products_df.promo_price.astype(str).str.contains(\"\\d+\\.\\d{3,}\")), :]\n",
        "promo_price_df.sample(50)"
      ],
      "metadata": {
        "id": "6S88DpsRtaM0",
        "colab": {
          "base_uri": "https://localhost:8080/",
          "height": 1000
        },
        "outputId": "1efc86f1-4522-4634-c1fd-41b40c2a02e4"
      },
      "execution_count": null,
      "outputs": [
        {
          "output_type": "execute_result",
          "data": {
            "text/plain": [
              "             sku  \\\n",
              "16152    TUC0318   \n",
              "2641     LAC0161   \n",
              "3039     APP1114   \n",
              "10292    PAC1597   \n",
              "14071    APP1880   \n",
              "2818     DEV0023   \n",
              "656      DLK0044   \n",
              "795      KEN0129   \n",
              "972      OWC0107   \n",
              "12333    PAC1436   \n",
              "16267    PAC2129   \n",
              "15590    SXA0040   \n",
              "17589    SAN0187   \n",
              "2468     LIF0053   \n",
              "12653    LMP0020   \n",
              "12660    TWS0099   \n",
              "17987  APP1673-A   \n",
              "884      PAC0375   \n",
              "17538    OWC0257   \n",
              "845      APP0698   \n",
              "16228    PAC2079   \n",
              "2831     LEX0011   \n",
              "1577     PAC0590   \n",
              "11194    PAC1639   \n",
              "2541     FCM0035   \n",
              "17668    PAC2196   \n",
              "18008    MOS0241   \n",
              "16791    APP2196   \n",
              "13635  UAG0020-A   \n",
              "12579    IFX0086   \n",
              "2883     APP1096   \n",
              "18117    PAC2475   \n",
              "2691     APP1043   \n",
              "11058    PAC1231   \n",
              "630    BEL0127-A   \n",
              "10483    PAC1606   \n",
              "14583    SAT0016   \n",
              "1144     PUR0116   \n",
              "13464  SPE0166-A   \n",
              "11584  TWS0043-A   \n",
              "18070    JBL0152   \n",
              "18787  APP2077-A   \n",
              "15214  STA0043-A   \n",
              "1065     KAN0019   \n",
              "15487  SEA0097-A   \n",
              "15301    NOM0025   \n",
              "18662    APP0762   \n",
              "16145    AP20136   \n",
              "13701  APP0989-A   \n",
              "777      KIN0086   \n",
              "\n",
              "                                                                                                          name  \\\n",
              "16152                                                                 Tucano 105 iPad Case Filo Minerale \"Rosa   \n",
              "2641                                                                             20TB LaCie 5big Thunderbolt 2   \n",
              "3039                                                                         Apple iPad Mini 4 Wi-Fi 16GB Gold   \n",
              "10292                        Apple iMac 27 \"Core i5 3.2GHz Retina 5K | 32GB RAM | 2TB SSD | AMD Radeon R9 M390   \n",
              "14071  Apple MacBook Pro 15 \"Core i7 Touch Bar 26GHz | 16GB RAM | 1TB PCIe SSD | 450 2GB Radeon Pro Space Gray   \n",
              "2818                                                                     Devolo dLAN 550 duo Starter Kit + PLC   \n",
              "656                                                     D-Link DIR-860L Wireless AC1200 Dual-Band Cloud Router   \n",
              "795                                                   Portofolio Kensington Soft Case iPad Mini / Retina Green   \n",
              "972                                                                    OWC 128GB PATA ZIF SSD MacBook Air 2008   \n",
              "12333                                                               Synology DS116 Pack | Seagate 2TB IronWolf   \n",
              "16267                                                  Apple iMac 27 \"Core i7 Retina 5K 42GHz | 16GB | 2TB SSD   \n",
              "15590                                         SecurityXtra One Security Support iPad Black Pro Adjustable Wall   \n",
              "17589                                                              SanDisk Ultra 32GB microSDHC Memory Card A1   \n",
              "2468                                                    Lifeproof Fre Case Waterproof iPad Mini / Retina White   \n",
              "12653                                                 LMP Bluetooth Keypad 2 Numeric Keypad for Magic Keyboard   \n",
              "12660                                                       Twelve South BookBook Case for iPhone 6 / 6S Black   \n",
              "17987                                                          Open - Apple iPhone Silicone Case Cover Red 8/7   \n",
              "884                                                               OWC Mercury Elite Pro Dual Thunderbolt + 6TB   \n",
              "17538                                                                  Mac OWC Memory 2GB DDR3 1066MHZ SO-DIMM   \n",
              "845                                                      Apple Lightning Cable Connector to USB 1m White (OEM)   \n",
              "16228                                                  Apple iMac 27 \"Core i5 Retina 5K 34GHz | 32GB | 1TB SSD   \n",
              "2831                                                 Lexar microSDHC Memory Card Class 10 32GB with SD Adapter   \n",
              "1577                                                                   Synology DS415 + Pack | WD 24TB Network   \n",
              "11194                                                         Pack QNAP TS-253A | 4G RAM | 6TB Seagate Desktop   \n",
              "2541                                                                       Mac Memory DIMM 1GB DDR2 533MHz FCM   \n",
              "17668                                     Second hand - Apple iMac 20 \"Core 2 Duo 226GHz | 2GB RAM | 160GB HDD   \n",
              "18008                                                          Moshi iPhone Case StealthCover X Rosa Champagne   \n",
              "16791                                               Apple iMac 21.5 \"Core i5 30GHz 4K Retina | 8GB | 512GB SSD   \n",
              "13635                                                 (Open) Urban Armor Gear iPad Case 129 Pro \"Black / Black   \n",
              "12579                                          iFixit piece connector Lightning and Audio Jack Black iPhone 5s   \n",
              "2883                                                                                Apple iPod Touch 64GB Blue   \n",
              "18117                                              Synology DS118 NAS Server | 12TB (1x12TB) Seagate Iron Wolf   \n",
              "2691                                                                  Apple USB-C Multiport Digital AV Adapter   \n",
              "11058                                                            Pack QNAP TS-251 + | 2GB RAM | WD 8TB Network   \n",
              "630                                                               Open - Belkin MIXIT Lightning iPhone Support   \n",
              "10483                          Apple iMac 27 \"Core i7 Retina 5K 4GHz | 32GB RAM | 2TB SSD | AMD Radeon R9 M390   \n",
              "14583                                                       Sonic Dual Conical Satechi Mac v2.0 Speakers Black   \n",
              "1144                                                                         Pure Sport sport Belt Yellow Belt   \n",
              "13464                                                           (Open) Speck SeeThru Case Macbook Pro 13 \"Rosa   \n",
              "11584                   (Open) Twelve South HiRise Support iPhone 5 / 5S / 5C / 6 / 6plus and iPad Mini Silver   \n",
              "18070                                              JBL Clip 2 Bluetooth Waterproof Mini Portable Speaker Black   \n",
              "18787          Open - Apple MacBook Pro 13 \"Core i5 with Touch Bar 31GHz | 8GB RAM | 512GB PCIe SSD Gray Space   \n",
              "15214                  Open - Startech Thunderbolt Adapter 3 / USB-C to USB 3.1 Gigabit Ethernet + Extra Black   \n",
              "1065                                                  Kanex Sydnee simultaneous loading station 4 devices 2.1A   \n",
              "15487                                                          Open - Seagate Barracuda 1TB Hard Drive 25 \"7mm   \n",
              "15301                                                       Nomad Apple Watch Strap Silicone Strap 42mm Silver   \n",
              "18662                                                                   Wireless Apple Keyboard German unboxed   \n",
              "16145                                                                   Second hand - Apple Travel Adapter Kit   \n",
              "13701                                   Open - Apple MacBook Pro Retina 15 \"i7 22 GHz | RAM 16GB | 256GB Flash   \n",
              "777                                                             Kingston DataTraveler G4 PenDrive 64GB USB 3.0   \n",
              "\n",
              "                                                                                                                                   desc  \\\n",
              "16152                                              Resistant cover front cover with magnetic closure and satin finish inch iPad Pro 105   \n",
              "2641                         20TB external hard drive designed to work 24x7 with free Thunderbolt 2 and 5 years warranty for Mac and PC   \n",
              "3039                                                                                                      Apple iPad Mini 4 16GB Wi-Fi.   \n",
              "10292                     Desktop computer iMac 27-inch 3.2GHz Core i5 5K Retina | 32GB RAM | 2TB SSD | AMD Radeon R9 M390 (MK472Y / A)   \n",
              "14071                                 New MacBook Pro 15-inch Touch Bar to 26GHz Core i7 with 16GB of RAM and 1TB PCIe SSD (MLH32Y / A)   \n",
              "2818                                                                                                Pack two signal repeaters PLC plug.   \n",
              "656                                                           Wireless Router DLink Cloud with AC SmartBeam and 867 Mbps transfer rate.   \n",
              "795                                                                                  Flexible Book cover type for new iPad Mini Retina.   \n",
              "972                                                                                                     128GB SSD for MacBook Air 2008.   \n",
              "12333                                                                    Synology DS116 + 2TB Hard Drive Seagate Desktop for Mac and PC   \n",
              "16267                                                                     IMac desktop computer 27 inch Retina 5K RAM 16GB SSD 2TB PCle   \n",
              "15590                                                                       Adjustable safety bracket anchored to the wall for iPad Pro   \n",
              "17589                                                      Micro Memory Card with Adapter reading speed 98MB / s and video speed UHS U1   \n",
              "2468                                                                           Water resistant protective cover for iPad Mini / Retina.   \n",
              "12653                                                                             expansion keypad keys 23 Bluetooth connection for Mac   \n",
              "12660                                                                                    card holder book cover seal with iPhone 6 / 6S   \n",
              "17987                                                                     Ultrathin silicone case and microfiber premium for iPhone 8/7   \n",
              "884                                                         RAID outer box 35 inch SATA connection Thunderbolt / USB3 Mac and PC + 6TB.   \n",
              "17538                                                                          2GB RAM Mac mini iMac MacBook and MacBook Pro (2008/10).   \n",
              "845                                                           Apple Lightning USB Cable 1 meter to charge and sync iPhone iPad and iPod   \n",
              "16228                                                                     IMac desktop computer 27 inch Retina 5K RAM 32GB SSD 1TB PCle   \n",
              "2831                                                                                       Class 10 32GB microSDHC card with SD adapter   \n",
              "1577                                                                           Synology DS415 + Pack of 24TB WD Network for Mac and PC.   \n",
              "11194                                              QNAP Pack + 4GB memory RAM + 12TB (2x6TB) Seagate Hard Drive for Mac and PC IronWolf   \n",
              "2541                                                                                                     RAM 1GB iMac G5 / PowerMac G5.   \n",
              "17668                                                                         Refurbished iMac 20 inch Core 2 Duo | 2GB RAM | 160GB HDD   \n",
              "18008                                                                   360-degree protection of military grade that reveals the screen   \n",
              "16791                                                                                      PC 215 inch iMac with 8GB RAM 512GB SSD PCle   \n",
              "13635                                                            resistant and lightweight housing cover format for iPad Pro 129 inches   \n",
              "12579                                                                Replacement parts Lightning connector and audio jack for iPhone 5s   \n",
              "2883                                                                        New 6th generation iPod Touch 64GB with 8 megapixel camera.   \n",
              "18117                                                                   1 bay NAS server with capacity for home use or small businesses   \n",
              "2691                                                                                    C USB-HDMI adapter for MacBook high resolution.   \n",
              "11058                                                Pack NAS QNAP TS-251 + 2GB RAM + 8TB (2x4TB) Network WD Hard Drive for Mac and PC.   \n",
              "630    Loading dock + support synchronization with Lightning connection and USB cable for iPhone 7 / SE / 6s / 6 / 5c / 5s and iPhone 5   \n",
              "10483                       IMac desktop computer 27 inch Retina 5K 4GHz Core i5 | 32GB RAM | 2TB SSD | AMD Radeon R9 M390 (MK472Y / A)   \n",
              "14583                                                             Speakers matte finish sleek design and volume controls for Mac and PC   \n",
              "1144                                                                                    belt special training sport for iPhone and iPod   \n",
              "13464                                                                            Protective polycarbonate shell for MacBook Pro 13-inch   \n",
              "11584                                                     Lightning adjustable support for iPhone 5 / 5S / 5C / 6/6 Plus and iPad mini.   \n",
              "18070                                                                                        waterproof speaker with high quality sound   \n",
              "18787                                    MacBook Pro 13-inch Core i5 Touch Bar refitted to 31 GHz with 8GB of RAM and 512GB of SSD PCIe   \n",
              "15214                                     Thunderbolt cable adapter 3 / USB-C and two connections: Ethernet and USB 3.1 for new MacBook   \n",
              "1065                                                                                   station for charging four devices simultaneously   \n",
              "15487                                                                                 Internal Hard Drive 1TB 7mm and 25 for Mac and PC   \n",
              "15301                                                                                        Silver silicone strap for Apple Watch 42mm   \n",
              "18662                                                 Wireless Keyboard Apple Wireless Keyboard German without case Compatible with Mac   \n",
              "16145                                                                             Adapter kit with seven types of interchangeable plugs   \n",
              "13701                                                               MacBook Retina 15 inch screen reconditioned i7 22GHz RAM 16GB 256GB   \n",
              "777                                                                                                         64GB USB pendrive with cap.   \n",
              "\n",
              "         price promo_price  in_stock      type  \n",
              "16152    39.90     329.894         0  12635403  \n",
              "2641   1899.00  16.899.949         0  11935397  \n",
              "3039    389.00   3.779.895         0  13621714  \n",
              "10292  4489.00  31.269.897         0  5,74E+15  \n",
              "14071  3419.00  32.545.842         0      2158  \n",
              "2818     79.99     729.896         1      1334  \n",
              "656     129.99     859.899         0      1334  \n",
              "795      28.99     139.876         0  12635403  \n",
              "972     362.99   2.465.835         0  12215397  \n",
              "12333   276.37   2.445.846         0  12175397  \n",
              "16267  4759.00  44.430.044         0  5,74E+15  \n",
              "15590   210.00   1.590.001         0      1216  \n",
              "17589    18.99     159.998         1  57445397  \n",
              "2468     89.99     299.899         0  12635403  \n",
              "12653    59.99     499.899         1  13855401  \n",
              "12660    69.99     529.895         0  11865403  \n",
              "17987    39.00     330.003         0  11865403  \n",
              "884     518.99   4.779.899         0  11935397  \n",
              "17538    19.99     189.897         1      1364  \n",
              "845      25.00      99.898         1      1230  \n",
              "16228  3659.00  32.130.045         0  5,74E+15  \n",
              "2831      9.29      92.928         0  57445397  \n",
              "1577   1770.99  15.389.905         0  12175397  \n",
              "11194   949.97   7.091.786         1  12175397  \n",
              "2541     17.88     169.896         0      1364  \n",
              "17668  1199.00   2.555.945         0  5,43E+15  \n",
              "18008    40.00     329.894         1  11865403  \n",
              "16791  1979.00  18.600.047         0  2,16E+11  \n",
              "13635    79.95     459.927         0      1298  \n",
              "12579    24.95     149.895         1  21485407  \n",
              "2883    292.81   3.428.112         0  11821715  \n",
              "18117   675.98   5.465.848         0  12175397  \n",
              "2691     79.00     749.994         1  12585395  \n",
              "11058   687.00   5.871.791         1  12175397  \n",
              "630      34.99     299.899         0      1298  \n",
              "10483  4849.00  35.129.906         0  5,74E+15  \n",
              "14583    39.99     249.901         1      5398  \n",
              "1144     19.99     199.892         0      5405  \n",
              "13464    49.90     315.109         0      1298  \n",
              "11584    39.99     294.732         0      1298  \n",
              "18070    59.99     549.897         0      5398  \n",
              "18787  2255.59  19.990.076         1  1,02E+12  \n",
              "15214    70.99      33.638         0      1298  \n",
              "1065     99.95     899.877         0      1515  \n",
              "15487    69.99     490.765         0      1298  \n",
              "15301    39.99     359.902         1      2449  \n",
              "18662    79.00     639.993         1  13855401  \n",
              "16145    35.00     199.904         0  12585395  \n",
              "13701  2249.00  19.560.462         0      1298  \n",
              "777      23.00     222.797         0  11935397  "
            ],
            "text/html": [
              "\n",
              "  <div id=\"df-993b9b7c-a3ae-4c5d-b1a1-6bc806584f98\" class=\"colab-df-container\">\n",
              "    <div>\n",
              "<style scoped>\n",
              "    .dataframe tbody tr th:only-of-type {\n",
              "        vertical-align: middle;\n",
              "    }\n",
              "\n",
              "    .dataframe tbody tr th {\n",
              "        vertical-align: top;\n",
              "    }\n",
              "\n",
              "    .dataframe thead th {\n",
              "        text-align: right;\n",
              "    }\n",
              "</style>\n",
              "<table border=\"1\" class=\"dataframe\">\n",
              "  <thead>\n",
              "    <tr style=\"text-align: right;\">\n",
              "      <th></th>\n",
              "      <th>sku</th>\n",
              "      <th>name</th>\n",
              "      <th>desc</th>\n",
              "      <th>price</th>\n",
              "      <th>promo_price</th>\n",
              "      <th>in_stock</th>\n",
              "      <th>type</th>\n",
              "    </tr>\n",
              "  </thead>\n",
              "  <tbody>\n",
              "    <tr>\n",
              "      <th>16152</th>\n",
              "      <td>TUC0318</td>\n",
              "      <td>Tucano 105 iPad Case Filo Minerale \"Rosa</td>\n",
              "      <td>Resistant cover front cover with magnetic closure and satin finish inch iPad Pro 105</td>\n",
              "      <td>39.90</td>\n",
              "      <td>329.894</td>\n",
              "      <td>0</td>\n",
              "      <td>12635403</td>\n",
              "    </tr>\n",
              "    <tr>\n",
              "      <th>2641</th>\n",
              "      <td>LAC0161</td>\n",
              "      <td>20TB LaCie 5big Thunderbolt 2</td>\n",
              "      <td>20TB external hard drive designed to work 24x7 with free Thunderbolt 2 and 5 years warranty for Mac and PC</td>\n",
              "      <td>1899.00</td>\n",
              "      <td>16.899.949</td>\n",
              "      <td>0</td>\n",
              "      <td>11935397</td>\n",
              "    </tr>\n",
              "    <tr>\n",
              "      <th>3039</th>\n",
              "      <td>APP1114</td>\n",
              "      <td>Apple iPad Mini 4 Wi-Fi 16GB Gold</td>\n",
              "      <td>Apple iPad Mini 4 16GB Wi-Fi.</td>\n",
              "      <td>389.00</td>\n",
              "      <td>3.779.895</td>\n",
              "      <td>0</td>\n",
              "      <td>13621714</td>\n",
              "    </tr>\n",
              "    <tr>\n",
              "      <th>10292</th>\n",
              "      <td>PAC1597</td>\n",
              "      <td>Apple iMac 27 \"Core i5 3.2GHz Retina 5K | 32GB RAM | 2TB SSD | AMD Radeon R9 M390</td>\n",
              "      <td>Desktop computer iMac 27-inch 3.2GHz Core i5 5K Retina | 32GB RAM | 2TB SSD | AMD Radeon R9 M390 (MK472Y / A)</td>\n",
              "      <td>4489.00</td>\n",
              "      <td>31.269.897</td>\n",
              "      <td>0</td>\n",
              "      <td>5,74E+15</td>\n",
              "    </tr>\n",
              "    <tr>\n",
              "      <th>14071</th>\n",
              "      <td>APP1880</td>\n",
              "      <td>Apple MacBook Pro 15 \"Core i7 Touch Bar 26GHz | 16GB RAM | 1TB PCIe SSD | 450 2GB Radeon Pro Space Gray</td>\n",
              "      <td>New MacBook Pro 15-inch Touch Bar to 26GHz Core i7 with 16GB of RAM and 1TB PCIe SSD (MLH32Y / A)</td>\n",
              "      <td>3419.00</td>\n",
              "      <td>32.545.842</td>\n",
              "      <td>0</td>\n",
              "      <td>2158</td>\n",
              "    </tr>\n",
              "    <tr>\n",
              "      <th>2818</th>\n",
              "      <td>DEV0023</td>\n",
              "      <td>Devolo dLAN 550 duo Starter Kit + PLC</td>\n",
              "      <td>Pack two signal repeaters PLC plug.</td>\n",
              "      <td>79.99</td>\n",
              "      <td>729.896</td>\n",
              "      <td>1</td>\n",
              "      <td>1334</td>\n",
              "    </tr>\n",
              "    <tr>\n",
              "      <th>656</th>\n",
              "      <td>DLK0044</td>\n",
              "      <td>D-Link DIR-860L Wireless AC1200 Dual-Band Cloud Router</td>\n",
              "      <td>Wireless Router DLink Cloud with AC SmartBeam and 867 Mbps transfer rate.</td>\n",
              "      <td>129.99</td>\n",
              "      <td>859.899</td>\n",
              "      <td>0</td>\n",
              "      <td>1334</td>\n",
              "    </tr>\n",
              "    <tr>\n",
              "      <th>795</th>\n",
              "      <td>KEN0129</td>\n",
              "      <td>Portofolio Kensington Soft Case iPad Mini / Retina Green</td>\n",
              "      <td>Flexible Book cover type for new iPad Mini Retina.</td>\n",
              "      <td>28.99</td>\n",
              "      <td>139.876</td>\n",
              "      <td>0</td>\n",
              "      <td>12635403</td>\n",
              "    </tr>\n",
              "    <tr>\n",
              "      <th>972</th>\n",
              "      <td>OWC0107</td>\n",
              "      <td>OWC 128GB PATA ZIF SSD MacBook Air 2008</td>\n",
              "      <td>128GB SSD for MacBook Air 2008.</td>\n",
              "      <td>362.99</td>\n",
              "      <td>2.465.835</td>\n",
              "      <td>0</td>\n",
              "      <td>12215397</td>\n",
              "    </tr>\n",
              "    <tr>\n",
              "      <th>12333</th>\n",
              "      <td>PAC1436</td>\n",
              "      <td>Synology DS116 Pack | Seagate 2TB IronWolf</td>\n",
              "      <td>Synology DS116 + 2TB Hard Drive Seagate Desktop for Mac and PC</td>\n",
              "      <td>276.37</td>\n",
              "      <td>2.445.846</td>\n",
              "      <td>0</td>\n",
              "      <td>12175397</td>\n",
              "    </tr>\n",
              "    <tr>\n",
              "      <th>16267</th>\n",
              "      <td>PAC2129</td>\n",
              "      <td>Apple iMac 27 \"Core i7 Retina 5K 42GHz | 16GB | 2TB SSD</td>\n",
              "      <td>IMac desktop computer 27 inch Retina 5K RAM 16GB SSD 2TB PCle</td>\n",
              "      <td>4759.00</td>\n",
              "      <td>44.430.044</td>\n",
              "      <td>0</td>\n",
              "      <td>5,74E+15</td>\n",
              "    </tr>\n",
              "    <tr>\n",
              "      <th>15590</th>\n",
              "      <td>SXA0040</td>\n",
              "      <td>SecurityXtra One Security Support iPad Black Pro Adjustable Wall</td>\n",
              "      <td>Adjustable safety bracket anchored to the wall for iPad Pro</td>\n",
              "      <td>210.00</td>\n",
              "      <td>1.590.001</td>\n",
              "      <td>0</td>\n",
              "      <td>1216</td>\n",
              "    </tr>\n",
              "    <tr>\n",
              "      <th>17589</th>\n",
              "      <td>SAN0187</td>\n",
              "      <td>SanDisk Ultra 32GB microSDHC Memory Card A1</td>\n",
              "      <td>Micro Memory Card with Adapter reading speed 98MB / s and video speed UHS U1</td>\n",
              "      <td>18.99</td>\n",
              "      <td>159.998</td>\n",
              "      <td>1</td>\n",
              "      <td>57445397</td>\n",
              "    </tr>\n",
              "    <tr>\n",
              "      <th>2468</th>\n",
              "      <td>LIF0053</td>\n",
              "      <td>Lifeproof Fre Case Waterproof iPad Mini / Retina White</td>\n",
              "      <td>Water resistant protective cover for iPad Mini / Retina.</td>\n",
              "      <td>89.99</td>\n",
              "      <td>299.899</td>\n",
              "      <td>0</td>\n",
              "      <td>12635403</td>\n",
              "    </tr>\n",
              "    <tr>\n",
              "      <th>12653</th>\n",
              "      <td>LMP0020</td>\n",
              "      <td>LMP Bluetooth Keypad 2 Numeric Keypad for Magic Keyboard</td>\n",
              "      <td>expansion keypad keys 23 Bluetooth connection for Mac</td>\n",
              "      <td>59.99</td>\n",
              "      <td>499.899</td>\n",
              "      <td>1</td>\n",
              "      <td>13855401</td>\n",
              "    </tr>\n",
              "    <tr>\n",
              "      <th>12660</th>\n",
              "      <td>TWS0099</td>\n",
              "      <td>Twelve South BookBook Case for iPhone 6 / 6S Black</td>\n",
              "      <td>card holder book cover seal with iPhone 6 / 6S</td>\n",
              "      <td>69.99</td>\n",
              "      <td>529.895</td>\n",
              "      <td>0</td>\n",
              "      <td>11865403</td>\n",
              "    </tr>\n",
              "    <tr>\n",
              "      <th>17987</th>\n",
              "      <td>APP1673-A</td>\n",
              "      <td>Open - Apple iPhone Silicone Case Cover Red 8/7</td>\n",
              "      <td>Ultrathin silicone case and microfiber premium for iPhone 8/7</td>\n",
              "      <td>39.00</td>\n",
              "      <td>330.003</td>\n",
              "      <td>0</td>\n",
              "      <td>11865403</td>\n",
              "    </tr>\n",
              "    <tr>\n",
              "      <th>884</th>\n",
              "      <td>PAC0375</td>\n",
              "      <td>OWC Mercury Elite Pro Dual Thunderbolt + 6TB</td>\n",
              "      <td>RAID outer box 35 inch SATA connection Thunderbolt / USB3 Mac and PC + 6TB.</td>\n",
              "      <td>518.99</td>\n",
              "      <td>4.779.899</td>\n",
              "      <td>0</td>\n",
              "      <td>11935397</td>\n",
              "    </tr>\n",
              "    <tr>\n",
              "      <th>17538</th>\n",
              "      <td>OWC0257</td>\n",
              "      <td>Mac OWC Memory 2GB DDR3 1066MHZ SO-DIMM</td>\n",
              "      <td>2GB RAM Mac mini iMac MacBook and MacBook Pro (2008/10).</td>\n",
              "      <td>19.99</td>\n",
              "      <td>189.897</td>\n",
              "      <td>1</td>\n",
              "      <td>1364</td>\n",
              "    </tr>\n",
              "    <tr>\n",
              "      <th>845</th>\n",
              "      <td>APP0698</td>\n",
              "      <td>Apple Lightning Cable Connector to USB 1m White (OEM)</td>\n",
              "      <td>Apple Lightning USB Cable 1 meter to charge and sync iPhone iPad and iPod</td>\n",
              "      <td>25.00</td>\n",
              "      <td>99.898</td>\n",
              "      <td>1</td>\n",
              "      <td>1230</td>\n",
              "    </tr>\n",
              "    <tr>\n",
              "      <th>16228</th>\n",
              "      <td>PAC2079</td>\n",
              "      <td>Apple iMac 27 \"Core i5 Retina 5K 34GHz | 32GB | 1TB SSD</td>\n",
              "      <td>IMac desktop computer 27 inch Retina 5K RAM 32GB SSD 1TB PCle</td>\n",
              "      <td>3659.00</td>\n",
              "      <td>32.130.045</td>\n",
              "      <td>0</td>\n",
              "      <td>5,74E+15</td>\n",
              "    </tr>\n",
              "    <tr>\n",
              "      <th>2831</th>\n",
              "      <td>LEX0011</td>\n",
              "      <td>Lexar microSDHC Memory Card Class 10 32GB with SD Adapter</td>\n",
              "      <td>Class 10 32GB microSDHC card with SD adapter</td>\n",
              "      <td>9.29</td>\n",
              "      <td>92.928</td>\n",
              "      <td>0</td>\n",
              "      <td>57445397</td>\n",
              "    </tr>\n",
              "    <tr>\n",
              "      <th>1577</th>\n",
              "      <td>PAC0590</td>\n",
              "      <td>Synology DS415 + Pack | WD 24TB Network</td>\n",
              "      <td>Synology DS415 + Pack of 24TB WD Network for Mac and PC.</td>\n",
              "      <td>1770.99</td>\n",
              "      <td>15.389.905</td>\n",
              "      <td>0</td>\n",
              "      <td>12175397</td>\n",
              "    </tr>\n",
              "    <tr>\n",
              "      <th>11194</th>\n",
              "      <td>PAC1639</td>\n",
              "      <td>Pack QNAP TS-253A | 4G RAM | 6TB Seagate Desktop</td>\n",
              "      <td>QNAP Pack + 4GB memory RAM + 12TB (2x6TB) Seagate Hard Drive for Mac and PC IronWolf</td>\n",
              "      <td>949.97</td>\n",
              "      <td>7.091.786</td>\n",
              "      <td>1</td>\n",
              "      <td>12175397</td>\n",
              "    </tr>\n",
              "    <tr>\n",
              "      <th>2541</th>\n",
              "      <td>FCM0035</td>\n",
              "      <td>Mac Memory DIMM 1GB DDR2 533MHz FCM</td>\n",
              "      <td>RAM 1GB iMac G5 / PowerMac G5.</td>\n",
              "      <td>17.88</td>\n",
              "      <td>169.896</td>\n",
              "      <td>0</td>\n",
              "      <td>1364</td>\n",
              "    </tr>\n",
              "    <tr>\n",
              "      <th>17668</th>\n",
              "      <td>PAC2196</td>\n",
              "      <td>Second hand - Apple iMac 20 \"Core 2 Duo 226GHz | 2GB RAM | 160GB HDD</td>\n",
              "      <td>Refurbished iMac 20 inch Core 2 Duo | 2GB RAM | 160GB HDD</td>\n",
              "      <td>1199.00</td>\n",
              "      <td>2.555.945</td>\n",
              "      <td>0</td>\n",
              "      <td>5,43E+15</td>\n",
              "    </tr>\n",
              "    <tr>\n",
              "      <th>18008</th>\n",
              "      <td>MOS0241</td>\n",
              "      <td>Moshi iPhone Case StealthCover X Rosa Champagne</td>\n",
              "      <td>360-degree protection of military grade that reveals the screen</td>\n",
              "      <td>40.00</td>\n",
              "      <td>329.894</td>\n",
              "      <td>1</td>\n",
              "      <td>11865403</td>\n",
              "    </tr>\n",
              "    <tr>\n",
              "      <th>16791</th>\n",
              "      <td>APP2196</td>\n",
              "      <td>Apple iMac 21.5 \"Core i5 30GHz 4K Retina | 8GB | 512GB SSD</td>\n",
              "      <td>PC 215 inch iMac with 8GB RAM 512GB SSD PCle</td>\n",
              "      <td>1979.00</td>\n",
              "      <td>18.600.047</td>\n",
              "      <td>0</td>\n",
              "      <td>2,16E+11</td>\n",
              "    </tr>\n",
              "    <tr>\n",
              "      <th>13635</th>\n",
              "      <td>UAG0020-A</td>\n",
              "      <td>(Open) Urban Armor Gear iPad Case 129 Pro \"Black / Black</td>\n",
              "      <td>resistant and lightweight housing cover format for iPad Pro 129 inches</td>\n",
              "      <td>79.95</td>\n",
              "      <td>459.927</td>\n",
              "      <td>0</td>\n",
              "      <td>1298</td>\n",
              "    </tr>\n",
              "    <tr>\n",
              "      <th>12579</th>\n",
              "      <td>IFX0086</td>\n",
              "      <td>iFixit piece connector Lightning and Audio Jack Black iPhone 5s</td>\n",
              "      <td>Replacement parts Lightning connector and audio jack for iPhone 5s</td>\n",
              "      <td>24.95</td>\n",
              "      <td>149.895</td>\n",
              "      <td>1</td>\n",
              "      <td>21485407</td>\n",
              "    </tr>\n",
              "    <tr>\n",
              "      <th>2883</th>\n",
              "      <td>APP1096</td>\n",
              "      <td>Apple iPod Touch 64GB Blue</td>\n",
              "      <td>New 6th generation iPod Touch 64GB with 8 megapixel camera.</td>\n",
              "      <td>292.81</td>\n",
              "      <td>3.428.112</td>\n",
              "      <td>0</td>\n",
              "      <td>11821715</td>\n",
              "    </tr>\n",
              "    <tr>\n",
              "      <th>18117</th>\n",
              "      <td>PAC2475</td>\n",
              "      <td>Synology DS118 NAS Server | 12TB (1x12TB) Seagate Iron Wolf</td>\n",
              "      <td>1 bay NAS server with capacity for home use or small businesses</td>\n",
              "      <td>675.98</td>\n",
              "      <td>5.465.848</td>\n",
              "      <td>0</td>\n",
              "      <td>12175397</td>\n",
              "    </tr>\n",
              "    <tr>\n",
              "      <th>2691</th>\n",
              "      <td>APP1043</td>\n",
              "      <td>Apple USB-C Multiport Digital AV Adapter</td>\n",
              "      <td>C USB-HDMI adapter for MacBook high resolution.</td>\n",
              "      <td>79.00</td>\n",
              "      <td>749.994</td>\n",
              "      <td>1</td>\n",
              "      <td>12585395</td>\n",
              "    </tr>\n",
              "    <tr>\n",
              "      <th>11058</th>\n",
              "      <td>PAC1231</td>\n",
              "      <td>Pack QNAP TS-251 + | 2GB RAM | WD 8TB Network</td>\n",
              "      <td>Pack NAS QNAP TS-251 + 2GB RAM + 8TB (2x4TB) Network WD Hard Drive for Mac and PC.</td>\n",
              "      <td>687.00</td>\n",
              "      <td>5.871.791</td>\n",
              "      <td>1</td>\n",
              "      <td>12175397</td>\n",
              "    </tr>\n",
              "    <tr>\n",
              "      <th>630</th>\n",
              "      <td>BEL0127-A</td>\n",
              "      <td>Open - Belkin MIXIT Lightning iPhone Support</td>\n",
              "      <td>Loading dock + support synchronization with Lightning connection and USB cable for iPhone 7 / SE / 6s / 6 / 5c / 5s and iPhone 5</td>\n",
              "      <td>34.99</td>\n",
              "      <td>299.899</td>\n",
              "      <td>0</td>\n",
              "      <td>1298</td>\n",
              "    </tr>\n",
              "    <tr>\n",
              "      <th>10483</th>\n",
              "      <td>PAC1606</td>\n",
              "      <td>Apple iMac 27 \"Core i7 Retina 5K 4GHz | 32GB RAM | 2TB SSD | AMD Radeon R9 M390</td>\n",
              "      <td>IMac desktop computer 27 inch Retina 5K 4GHz Core i5 | 32GB RAM | 2TB SSD | AMD Radeon R9 M390 (MK472Y / A)</td>\n",
              "      <td>4849.00</td>\n",
              "      <td>35.129.906</td>\n",
              "      <td>0</td>\n",
              "      <td>5,74E+15</td>\n",
              "    </tr>\n",
              "    <tr>\n",
              "      <th>14583</th>\n",
              "      <td>SAT0016</td>\n",
              "      <td>Sonic Dual Conical Satechi Mac v2.0 Speakers Black</td>\n",
              "      <td>Speakers matte finish sleek design and volume controls for Mac and PC</td>\n",
              "      <td>39.99</td>\n",
              "      <td>249.901</td>\n",
              "      <td>1</td>\n",
              "      <td>5398</td>\n",
              "    </tr>\n",
              "    <tr>\n",
              "      <th>1144</th>\n",
              "      <td>PUR0116</td>\n",
              "      <td>Pure Sport sport Belt Yellow Belt</td>\n",
              "      <td>belt special training sport for iPhone and iPod</td>\n",
              "      <td>19.99</td>\n",
              "      <td>199.892</td>\n",
              "      <td>0</td>\n",
              "      <td>5405</td>\n",
              "    </tr>\n",
              "    <tr>\n",
              "      <th>13464</th>\n",
              "      <td>SPE0166-A</td>\n",
              "      <td>(Open) Speck SeeThru Case Macbook Pro 13 \"Rosa</td>\n",
              "      <td>Protective polycarbonate shell for MacBook Pro 13-inch</td>\n",
              "      <td>49.90</td>\n",
              "      <td>315.109</td>\n",
              "      <td>0</td>\n",
              "      <td>1298</td>\n",
              "    </tr>\n",
              "    <tr>\n",
              "      <th>11584</th>\n",
              "      <td>TWS0043-A</td>\n",
              "      <td>(Open) Twelve South HiRise Support iPhone 5 / 5S / 5C / 6 / 6plus and iPad Mini Silver</td>\n",
              "      <td>Lightning adjustable support for iPhone 5 / 5S / 5C / 6/6 Plus and iPad mini.</td>\n",
              "      <td>39.99</td>\n",
              "      <td>294.732</td>\n",
              "      <td>0</td>\n",
              "      <td>1298</td>\n",
              "    </tr>\n",
              "    <tr>\n",
              "      <th>18070</th>\n",
              "      <td>JBL0152</td>\n",
              "      <td>JBL Clip 2 Bluetooth Waterproof Mini Portable Speaker Black</td>\n",
              "      <td>waterproof speaker with high quality sound</td>\n",
              "      <td>59.99</td>\n",
              "      <td>549.897</td>\n",
              "      <td>0</td>\n",
              "      <td>5398</td>\n",
              "    </tr>\n",
              "    <tr>\n",
              "      <th>18787</th>\n",
              "      <td>APP2077-A</td>\n",
              "      <td>Open - Apple MacBook Pro 13 \"Core i5 with Touch Bar 31GHz | 8GB RAM | 512GB PCIe SSD Gray Space</td>\n",
              "      <td>MacBook Pro 13-inch Core i5 Touch Bar refitted to 31 GHz with 8GB of RAM and 512GB of SSD PCIe</td>\n",
              "      <td>2255.59</td>\n",
              "      <td>19.990.076</td>\n",
              "      <td>1</td>\n",
              "      <td>1,02E+12</td>\n",
              "    </tr>\n",
              "    <tr>\n",
              "      <th>15214</th>\n",
              "      <td>STA0043-A</td>\n",
              "      <td>Open - Startech Thunderbolt Adapter 3 / USB-C to USB 3.1 Gigabit Ethernet + Extra Black</td>\n",
              "      <td>Thunderbolt cable adapter 3 / USB-C and two connections: Ethernet and USB 3.1 for new MacBook</td>\n",
              "      <td>70.99</td>\n",
              "      <td>33.638</td>\n",
              "      <td>0</td>\n",
              "      <td>1298</td>\n",
              "    </tr>\n",
              "    <tr>\n",
              "      <th>1065</th>\n",
              "      <td>KAN0019</td>\n",
              "      <td>Kanex Sydnee simultaneous loading station 4 devices 2.1A</td>\n",
              "      <td>station for charging four devices simultaneously</td>\n",
              "      <td>99.95</td>\n",
              "      <td>899.877</td>\n",
              "      <td>0</td>\n",
              "      <td>1515</td>\n",
              "    </tr>\n",
              "    <tr>\n",
              "      <th>15487</th>\n",
              "      <td>SEA0097-A</td>\n",
              "      <td>Open - Seagate Barracuda 1TB Hard Drive 25 \"7mm</td>\n",
              "      <td>Internal Hard Drive 1TB 7mm and 25 for Mac and PC</td>\n",
              "      <td>69.99</td>\n",
              "      <td>490.765</td>\n",
              "      <td>0</td>\n",
              "      <td>1298</td>\n",
              "    </tr>\n",
              "    <tr>\n",
              "      <th>15301</th>\n",
              "      <td>NOM0025</td>\n",
              "      <td>Nomad Apple Watch Strap Silicone Strap 42mm Silver</td>\n",
              "      <td>Silver silicone strap for Apple Watch 42mm</td>\n",
              "      <td>39.99</td>\n",
              "      <td>359.902</td>\n",
              "      <td>1</td>\n",
              "      <td>2449</td>\n",
              "    </tr>\n",
              "    <tr>\n",
              "      <th>18662</th>\n",
              "      <td>APP0762</td>\n",
              "      <td>Wireless Apple Keyboard German unboxed</td>\n",
              "      <td>Wireless Keyboard Apple Wireless Keyboard German without case Compatible with Mac</td>\n",
              "      <td>79.00</td>\n",
              "      <td>639.993</td>\n",
              "      <td>1</td>\n",
              "      <td>13855401</td>\n",
              "    </tr>\n",
              "    <tr>\n",
              "      <th>16145</th>\n",
              "      <td>AP20136</td>\n",
              "      <td>Second hand - Apple Travel Adapter Kit</td>\n",
              "      <td>Adapter kit with seven types of interchangeable plugs</td>\n",
              "      <td>35.00</td>\n",
              "      <td>199.904</td>\n",
              "      <td>0</td>\n",
              "      <td>12585395</td>\n",
              "    </tr>\n",
              "    <tr>\n",
              "      <th>13701</th>\n",
              "      <td>APP0989-A</td>\n",
              "      <td>Open - Apple MacBook Pro Retina 15 \"i7 22 GHz | RAM 16GB | 256GB Flash</td>\n",
              "      <td>MacBook Retina 15 inch screen reconditioned i7 22GHz RAM 16GB 256GB</td>\n",
              "      <td>2249.00</td>\n",
              "      <td>19.560.462</td>\n",
              "      <td>0</td>\n",
              "      <td>1298</td>\n",
              "    </tr>\n",
              "    <tr>\n",
              "      <th>777</th>\n",
              "      <td>KIN0086</td>\n",
              "      <td>Kingston DataTraveler G4 PenDrive 64GB USB 3.0</td>\n",
              "      <td>64GB USB pendrive with cap.</td>\n",
              "      <td>23.00</td>\n",
              "      <td>222.797</td>\n",
              "      <td>0</td>\n",
              "      <td>11935397</td>\n",
              "    </tr>\n",
              "  </tbody>\n",
              "</table>\n",
              "</div>\n",
              "    <div class=\"colab-df-buttons\">\n",
              "\n",
              "  <div class=\"colab-df-container\">\n",
              "    <button class=\"colab-df-convert\" onclick=\"convertToInteractive('df-993b9b7c-a3ae-4c5d-b1a1-6bc806584f98')\"\n",
              "            title=\"Convert this dataframe to an interactive table.\"\n",
              "            style=\"display:none;\">\n",
              "\n",
              "  <svg xmlns=\"http://www.w3.org/2000/svg\" height=\"24px\" viewBox=\"0 -960 960 960\">\n",
              "    <path d=\"M120-120v-720h720v720H120Zm60-500h600v-160H180v160Zm220 220h160v-160H400v160Zm0 220h160v-160H400v160ZM180-400h160v-160H180v160Zm440 0h160v-160H620v160ZM180-180h160v-160H180v160Zm440 0h160v-160H620v160Z\"/>\n",
              "  </svg>\n",
              "    </button>\n",
              "\n",
              "  <style>\n",
              "    .colab-df-container {\n",
              "      display:flex;\n",
              "      gap: 12px;\n",
              "    }\n",
              "\n",
              "    .colab-df-convert {\n",
              "      background-color: #E8F0FE;\n",
              "      border: none;\n",
              "      border-radius: 50%;\n",
              "      cursor: pointer;\n",
              "      display: none;\n",
              "      fill: #1967D2;\n",
              "      height: 32px;\n",
              "      padding: 0 0 0 0;\n",
              "      width: 32px;\n",
              "    }\n",
              "\n",
              "    .colab-df-convert:hover {\n",
              "      background-color: #E2EBFA;\n",
              "      box-shadow: 0px 1px 2px rgba(60, 64, 67, 0.3), 0px 1px 3px 1px rgba(60, 64, 67, 0.15);\n",
              "      fill: #174EA6;\n",
              "    }\n",
              "\n",
              "    .colab-df-buttons div {\n",
              "      margin-bottom: 4px;\n",
              "    }\n",
              "\n",
              "    [theme=dark] .colab-df-convert {\n",
              "      background-color: #3B4455;\n",
              "      fill: #D2E3FC;\n",
              "    }\n",
              "\n",
              "    [theme=dark] .colab-df-convert:hover {\n",
              "      background-color: #434B5C;\n",
              "      box-shadow: 0px 1px 3px 1px rgba(0, 0, 0, 0.15);\n",
              "      filter: drop-shadow(0px 1px 2px rgba(0, 0, 0, 0.3));\n",
              "      fill: #FFFFFF;\n",
              "    }\n",
              "  </style>\n",
              "\n",
              "    <script>\n",
              "      const buttonEl =\n",
              "        document.querySelector('#df-993b9b7c-a3ae-4c5d-b1a1-6bc806584f98 button.colab-df-convert');\n",
              "      buttonEl.style.display =\n",
              "        google.colab.kernel.accessAllowed ? 'block' : 'none';\n",
              "\n",
              "      async function convertToInteractive(key) {\n",
              "        const element = document.querySelector('#df-993b9b7c-a3ae-4c5d-b1a1-6bc806584f98');\n",
              "        const dataTable =\n",
              "          await google.colab.kernel.invokeFunction('convertToInteractive',\n",
              "                                                    [key], {});\n",
              "        if (!dataTable) return;\n",
              "\n",
              "        const docLinkHtml = 'Like what you see? Visit the ' +\n",
              "          '<a target=\"_blank\" href=https://colab.research.google.com/notebooks/data_table.ipynb>data table notebook</a>'\n",
              "          + ' to learn more about interactive tables.';\n",
              "        element.innerHTML = '';\n",
              "        dataTable['output_type'] = 'display_data';\n",
              "        await google.colab.output.renderOutput(dataTable, element);\n",
              "        const docLink = document.createElement('div');\n",
              "        docLink.innerHTML = docLinkHtml;\n",
              "        element.appendChild(docLink);\n",
              "      }\n",
              "    </script>\n",
              "  </div>\n",
              "\n",
              "\n",
              "<div id=\"df-6a58070a-8689-4fa9-bb8e-822b08103310\">\n",
              "  <button class=\"colab-df-quickchart\" onclick=\"quickchart('df-6a58070a-8689-4fa9-bb8e-822b08103310')\"\n",
              "            title=\"Suggest charts\"\n",
              "            style=\"display:none;\">\n",
              "\n",
              "<svg xmlns=\"http://www.w3.org/2000/svg\" height=\"24px\"viewBox=\"0 0 24 24\"\n",
              "     width=\"24px\">\n",
              "    <g>\n",
              "        <path d=\"M19 3H5c-1.1 0-2 .9-2 2v14c0 1.1.9 2 2 2h14c1.1 0 2-.9 2-2V5c0-1.1-.9-2-2-2zM9 17H7v-7h2v7zm4 0h-2V7h2v10zm4 0h-2v-4h2v4z\"/>\n",
              "    </g>\n",
              "</svg>\n",
              "  </button>\n",
              "\n",
              "<style>\n",
              "  .colab-df-quickchart {\n",
              "      --bg-color: #E8F0FE;\n",
              "      --fill-color: #1967D2;\n",
              "      --hover-bg-color: #E2EBFA;\n",
              "      --hover-fill-color: #174EA6;\n",
              "      --disabled-fill-color: #AAA;\n",
              "      --disabled-bg-color: #DDD;\n",
              "  }\n",
              "\n",
              "  [theme=dark] .colab-df-quickchart {\n",
              "      --bg-color: #3B4455;\n",
              "      --fill-color: #D2E3FC;\n",
              "      --hover-bg-color: #434B5C;\n",
              "      --hover-fill-color: #FFFFFF;\n",
              "      --disabled-bg-color: #3B4455;\n",
              "      --disabled-fill-color: #666;\n",
              "  }\n",
              "\n",
              "  .colab-df-quickchart {\n",
              "    background-color: var(--bg-color);\n",
              "    border: none;\n",
              "    border-radius: 50%;\n",
              "    cursor: pointer;\n",
              "    display: none;\n",
              "    fill: var(--fill-color);\n",
              "    height: 32px;\n",
              "    padding: 0;\n",
              "    width: 32px;\n",
              "  }\n",
              "\n",
              "  .colab-df-quickchart:hover {\n",
              "    background-color: var(--hover-bg-color);\n",
              "    box-shadow: 0 1px 2px rgba(60, 64, 67, 0.3), 0 1px 3px 1px rgba(60, 64, 67, 0.15);\n",
              "    fill: var(--button-hover-fill-color);\n",
              "  }\n",
              "\n",
              "  .colab-df-quickchart-complete:disabled,\n",
              "  .colab-df-quickchart-complete:disabled:hover {\n",
              "    background-color: var(--disabled-bg-color);\n",
              "    fill: var(--disabled-fill-color);\n",
              "    box-shadow: none;\n",
              "  }\n",
              "\n",
              "  .colab-df-spinner {\n",
              "    border: 2px solid var(--fill-color);\n",
              "    border-color: transparent;\n",
              "    border-bottom-color: var(--fill-color);\n",
              "    animation:\n",
              "      spin 1s steps(1) infinite;\n",
              "  }\n",
              "\n",
              "  @keyframes spin {\n",
              "    0% {\n",
              "      border-color: transparent;\n",
              "      border-bottom-color: var(--fill-color);\n",
              "      border-left-color: var(--fill-color);\n",
              "    }\n",
              "    20% {\n",
              "      border-color: transparent;\n",
              "      border-left-color: var(--fill-color);\n",
              "      border-top-color: var(--fill-color);\n",
              "    }\n",
              "    30% {\n",
              "      border-color: transparent;\n",
              "      border-left-color: var(--fill-color);\n",
              "      border-top-color: var(--fill-color);\n",
              "      border-right-color: var(--fill-color);\n",
              "    }\n",
              "    40% {\n",
              "      border-color: transparent;\n",
              "      border-right-color: var(--fill-color);\n",
              "      border-top-color: var(--fill-color);\n",
              "    }\n",
              "    60% {\n",
              "      border-color: transparent;\n",
              "      border-right-color: var(--fill-color);\n",
              "    }\n",
              "    80% {\n",
              "      border-color: transparent;\n",
              "      border-right-color: var(--fill-color);\n",
              "      border-bottom-color: var(--fill-color);\n",
              "    }\n",
              "    90% {\n",
              "      border-color: transparent;\n",
              "      border-bottom-color: var(--fill-color);\n",
              "    }\n",
              "  }\n",
              "</style>\n",
              "\n",
              "  <script>\n",
              "    async function quickchart(key) {\n",
              "      const quickchartButtonEl =\n",
              "        document.querySelector('#' + key + ' button');\n",
              "      quickchartButtonEl.disabled = true;  // To prevent multiple clicks.\n",
              "      quickchartButtonEl.classList.add('colab-df-spinner');\n",
              "      try {\n",
              "        const charts = await google.colab.kernel.invokeFunction(\n",
              "            'suggestCharts', [key], {});\n",
              "      } catch (error) {\n",
              "        console.error('Error during call to suggestCharts:', error);\n",
              "      }\n",
              "      quickchartButtonEl.classList.remove('colab-df-spinner');\n",
              "      quickchartButtonEl.classList.add('colab-df-quickchart-complete');\n",
              "    }\n",
              "    (() => {\n",
              "      let quickchartButtonEl =\n",
              "        document.querySelector('#df-6a58070a-8689-4fa9-bb8e-822b08103310 button');\n",
              "      quickchartButtonEl.style.display =\n",
              "        google.colab.kernel.accessAllowed ? 'block' : 'none';\n",
              "    })();\n",
              "  </script>\n",
              "</div>\n",
              "    </div>\n",
              "  </div>\n"
            ],
            "application/vnd.google.colaboratory.intrinsic+json": {
              "type": "dataframe",
              "summary": "{\n  \"name\": \"promo_price_df\",\n  \"rows\": 50,\n  \"fields\": [\n    {\n      \"column\": \"sku\",\n      \"properties\": {\n        \"dtype\": \"string\",\n        \"num_unique_values\": 50,\n        \"samples\": [\n          \"LIF0053\",\n          \"TWS0043-A\",\n          \"APP1096\"\n        ],\n        \"semantic_type\": \"\",\n        \"description\": \"\"\n      }\n    },\n    {\n      \"column\": \"name\",\n      \"properties\": {\n        \"dtype\": \"string\",\n        \"num_unique_values\": 50,\n        \"samples\": [\n          \"Lifeproof Fre Case Waterproof iPad Mini / Retina White\",\n          \"(Open) Twelve South HiRise Support iPhone 5 / 5S / 5C / 6 / 6plus and iPad Mini Silver\",\n          \"Apple iPod Touch 64GB Blue\"\n        ],\n        \"semantic_type\": \"\",\n        \"description\": \"\"\n      }\n    },\n    {\n      \"column\": \"desc\",\n      \"properties\": {\n        \"dtype\": \"string\",\n        \"num_unique_values\": 50,\n        \"samples\": [\n          \"Water resistant protective cover for iPad Mini / Retina.\",\n          \"Lightning adjustable support for iPhone 5 / 5S / 5C / 6/6 Plus and iPad mini.\",\n          \"New 6th generation iPod Touch 64GB with 8 megapixel camera.\"\n        ],\n        \"semantic_type\": \"\",\n        \"description\": \"\"\n      }\n    },\n    {\n      \"column\": \"price\",\n      \"properties\": {\n        \"dtype\": \"number\",\n        \"std\": 1331.1201655675616,\n        \"min\": 9.29,\n        \"max\": 4849.0,\n        \"num_unique_values\": 44,\n        \"samples\": [\n          49.9,\n          17.88,\n          1199.0\n        ],\n        \"semantic_type\": \"\",\n        \"description\": \"\"\n      }\n    },\n    {\n      \"column\": \"promo_price\",\n      \"properties\": {\n        \"dtype\": \"string\",\n        \"num_unique_values\": 48,\n        \"samples\": [\n          \"459.927\",\n          \"33.638\",\n          \"18.600.047\"\n        ],\n        \"semantic_type\": \"\",\n        \"description\": \"\"\n      }\n    },\n    {\n      \"column\": \"in_stock\",\n      \"properties\": {\n        \"dtype\": \"number\",\n        \"std\": 0,\n        \"min\": 0,\n        \"max\": 1,\n        \"num_unique_values\": 2,\n        \"samples\": [\n          1,\n          0\n        ],\n        \"semantic_type\": \"\",\n        \"description\": \"\"\n      }\n    },\n    {\n      \"column\": \"type\",\n      \"properties\": {\n        \"dtype\": \"string\",\n        \"num_unique_values\": 25,\n        \"samples\": [\n          \"1216\",\n          \"1298\"\n        ],\n        \"semantic_type\": \"\",\n        \"description\": \"\"\n      }\n    }\n  ]\n}"
            }
          },
          "metadata": {},
          "execution_count": 51
        }
      ]
    },
    {
      "cell_type": "markdown",
      "source": [
        "So we were correct, over 90% of the data in this column is corrupt. There's no point deleting all of these rows, then we would barely have a products table. Instead, as it's only this column that appears to be very untrustworthy, we will delete the column."
      ],
      "metadata": {
        "id": "0Hfgo84xu_VS"
      }
    },
    {
      "cell_type": "code",
      "source": [
        "products_cl = products_df.drop(columns=[\"promo_price\"])"
      ],
      "metadata": {
        "id": "OalyJ-8atij8"
      },
      "execution_count": null,
      "outputs": []
    },
    {
      "cell_type": "code",
      "source": [
        "products_cl.info()"
      ],
      "metadata": {
        "id": "mJQtVYS-Knyf",
        "colab": {
          "base_uri": "https://localhost:8080/"
        },
        "outputId": "bee9068e-c7c2-49ca-bfbc-cfdfabe7356b"
      },
      "execution_count": null,
      "outputs": [
        {
          "output_type": "stream",
          "name": "stdout",
          "text": [
            "<class 'pandas.core.frame.DataFrame'>\n",
            "Index: 9992 entries, 0 to 19325\n",
            "Data columns (total 6 columns):\n",
            " #   Column    Non-Null Count  Dtype  \n",
            "---  ------    --------------  -----  \n",
            " 0   sku       9992 non-null   object \n",
            " 1   name      9992 non-null   object \n",
            " 2   desc      9992 non-null   object \n",
            " 3   price     9992 non-null   float64\n",
            " 4   in_stock  9992 non-null   int64  \n",
            " 5   type      9946 non-null   object \n",
            "dtypes: float64(1), int64(1), object(4)\n",
            "memory usage: 546.4+ KB\n"
          ]
        }
      ]
    },
    {
      "cell_type": "markdown",
      "source": [
        "Obviously, there's now no need to convert `promo_price` to a numerical datatype\n",
        "\n",
        "Don't forget to download/save your new DataFrames. Also, give them an obvious name, so that you know they are the cleaned version and not the original DataFrame."
      ],
      "metadata": {
        "id": "vyyISxnQ1YVG"
      }
    },
    {
      "cell_type": "code",
      "source": [
        "from google.colab import files\n",
        "\n",
        "orders_df.to_csv(\"orders_cl.csv\", index=False)\n",
        "files.download(\"orders_cl.csv\")\n",
        "\n",
        "orderlines_df.to_csv(\"orderlines_cl.csv\", index=False)\n",
        "files.download(\"orderlines_cl.csv\")\n",
        "\n",
        "products_cl.to_csv(\"products_cl.csv\", index=False)\n",
        "files.download(\"products_cl.csv\")"
      ],
      "metadata": {
        "id": "6M4Jxfz-8G2b",
        "colab": {
          "base_uri": "https://localhost:8080/",
          "height": 52
        },
        "outputId": "e3d961a1-f130-4cba-f22f-4c1337824aa6"
      },
      "execution_count": null,
      "outputs": [
        {
          "output_type": "display_data",
          "data": {
            "text/plain": [
              "<IPython.core.display.Javascript object>"
            ],
            "application/javascript": [
              "\n",
              "    async function download(id, filename, size) {\n",
              "      if (!google.colab.kernel.accessAllowed) {\n",
              "        return;\n",
              "      }\n",
              "      const div = document.createElement('div');\n",
              "      const label = document.createElement('label');\n",
              "      label.textContent = `Downloading \"${filename}\": `;\n",
              "      div.appendChild(label);\n",
              "      const progress = document.createElement('progress');\n",
              "      progress.max = size;\n",
              "      div.appendChild(progress);\n",
              "      document.body.appendChild(div);\n",
              "\n",
              "      const buffers = [];\n",
              "      let downloaded = 0;\n",
              "\n",
              "      const channel = await google.colab.kernel.comms.open(id);\n",
              "      // Send a message to notify the kernel that we're ready.\n",
              "      channel.send({})\n",
              "\n",
              "      for await (const message of channel.messages) {\n",
              "        // Send a message to notify the kernel that we're ready.\n",
              "        channel.send({})\n",
              "        if (message.buffers) {\n",
              "          for (const buffer of message.buffers) {\n",
              "            buffers.push(buffer);\n",
              "            downloaded += buffer.byteLength;\n",
              "            progress.value = downloaded;\n",
              "          }\n",
              "        }\n",
              "      }\n",
              "      const blob = new Blob(buffers, {type: 'application/binary'});\n",
              "      const a = document.createElement('a');\n",
              "      a.href = window.URL.createObjectURL(blob);\n",
              "      a.download = filename;\n",
              "      div.appendChild(a);\n",
              "      a.click();\n",
              "      div.remove();\n",
              "    }\n",
              "  "
            ]
          },
          "metadata": {}
        },
        {
          "output_type": "display_data",
          "data": {
            "text/plain": [
              "<IPython.core.display.Javascript object>"
            ],
            "application/javascript": [
              "download(\"download_caf5a379-c848-4476-80db-c378d7435bf9\", \"orders_cl.csv\", 10596743)"
            ]
          },
          "metadata": {}
        },
        {
          "output_type": "display_data",
          "data": {
            "text/plain": [
              "<IPython.core.display.Javascript object>"
            ],
            "application/javascript": [
              "\n",
              "    async function download(id, filename, size) {\n",
              "      if (!google.colab.kernel.accessAllowed) {\n",
              "        return;\n",
              "      }\n",
              "      const div = document.createElement('div');\n",
              "      const label = document.createElement('label');\n",
              "      label.textContent = `Downloading \"${filename}\": `;\n",
              "      div.appendChild(label);\n",
              "      const progress = document.createElement('progress');\n",
              "      progress.max = size;\n",
              "      div.appendChild(progress);\n",
              "      document.body.appendChild(div);\n",
              "\n",
              "      const buffers = [];\n",
              "      let downloaded = 0;\n",
              "\n",
              "      const channel = await google.colab.kernel.comms.open(id);\n",
              "      // Send a message to notify the kernel that we're ready.\n",
              "      channel.send({})\n",
              "\n",
              "      for await (const message of channel.messages) {\n",
              "        // Send a message to notify the kernel that we're ready.\n",
              "        channel.send({})\n",
              "        if (message.buffers) {\n",
              "          for (const buffer of message.buffers) {\n",
              "            buffers.push(buffer);\n",
              "            downloaded += buffer.byteLength;\n",
              "            progress.value = downloaded;\n",
              "          }\n",
              "        }\n",
              "      }\n",
              "      const blob = new Blob(buffers, {type: 'application/binary'});\n",
              "      const a = document.createElement('a');\n",
              "      a.href = window.URL.createObjectURL(blob);\n",
              "      a.download = filename;\n",
              "      div.appendChild(a);\n",
              "      a.click();\n",
              "      div.remove();\n",
              "    }\n",
              "  "
            ]
          },
          "metadata": {}
        },
        {
          "output_type": "display_data",
          "data": {
            "text/plain": [
              "<IPython.core.display.Javascript object>"
            ],
            "application/javascript": [
              "download(\"download_914b5567-868a-429d-9341-9354fae17ec7\", \"orderlines_cl.csv\", 11513408)"
            ]
          },
          "metadata": {}
        },
        {
          "output_type": "display_data",
          "data": {
            "text/plain": [
              "<IPython.core.display.Javascript object>"
            ],
            "application/javascript": [
              "\n",
              "    async function download(id, filename, size) {\n",
              "      if (!google.colab.kernel.accessAllowed) {\n",
              "        return;\n",
              "      }\n",
              "      const div = document.createElement('div');\n",
              "      const label = document.createElement('label');\n",
              "      label.textContent = `Downloading \"${filename}\": `;\n",
              "      div.appendChild(label);\n",
              "      const progress = document.createElement('progress');\n",
              "      progress.max = size;\n",
              "      div.appendChild(progress);\n",
              "      document.body.appendChild(div);\n",
              "\n",
              "      const buffers = [];\n",
              "      let downloaded = 0;\n",
              "\n",
              "      const channel = await google.colab.kernel.comms.open(id);\n",
              "      // Send a message to notify the kernel that we're ready.\n",
              "      channel.send({})\n",
              "\n",
              "      for await (const message of channel.messages) {\n",
              "        // Send a message to notify the kernel that we're ready.\n",
              "        channel.send({})\n",
              "        if (message.buffers) {\n",
              "          for (const buffer of message.buffers) {\n",
              "            buffers.push(buffer);\n",
              "            downloaded += buffer.byteLength;\n",
              "            progress.value = downloaded;\n",
              "          }\n",
              "        }\n",
              "      }\n",
              "      const blob = new Blob(buffers, {type: 'application/binary'});\n",
              "      const a = document.createElement('a');\n",
              "      a.href = window.URL.createObjectURL(blob);\n",
              "      a.download = filename;\n",
              "      div.appendChild(a);\n",
              "      a.click();\n",
              "      div.remove();\n",
              "    }\n",
              "  "
            ]
          },
          "metadata": {}
        },
        {
          "output_type": "display_data",
          "data": {
            "text/plain": [
              "<IPython.core.display.Javascript object>"
            ],
            "application/javascript": [
              "download(\"download_20626e2a-59e4-4946-a29c-a9b954f0c534\", \"products_cl.csv\", 1416132)"
            ]
          },
          "metadata": {}
        }
      ]
    }
  ]
}